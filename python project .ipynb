{
 "cells": [
  {
   "cell_type": "code",
   "execution_count": 7,
   "metadata": {
    "scrolled": true
   },
   "outputs": [
    {
     "name": "stdout",
     "output_type": "stream",
     "text": [
      "1:sign_up\n",
      "2: sing in\n",
      "3: exit\n",
      "Enter choice1\n",
      "Enter First namekalyani\n",
      "Enter Last namebhardwaj\n",
      "Enter Roll_no17EAIcs066\n",
      "Enter Email_idkalyanibhardwaj00090@gmail.com\n",
      "Enter Password12@@##123\n",
      "record inserted sucessfully\n",
      "1:sign_up\n",
      "2: sing in\n",
      "3: exit\n",
      "Enter choice2\n",
      "Enter password12@@##123\n",
      "FName: kalyani\n",
      "LName: bhardwaj\n",
      "Roll_no: 17EAIcs066\n",
      "Email_id: kalyanibhardwaj00090@gmail.com\n",
      "Login page\n",
      "1:sign_up\n",
      "2: sing in\n",
      "3: exit\n",
      "Enter choice1\n",
      "Enter First namekalyani\n",
      "Enter Last namebhardwaj\n",
      "Enter Roll_no17EAIcs066\n",
      "Enter Email_idkalyanibhardwaj00090@gmail.com\n",
      "Enter Password12@@##123\n",
      "12@@##123 already detail registered\n",
      "1:sign_up\n",
      "2: sing in\n",
      "3: exit\n",
      "Enter choice2\n",
      "Enter password123@@33\n",
      "1:sign_up\n",
      "2: sing in\n",
      "3: exit\n",
      "Enter choice3\n"
     ]
    }
   ],
   "source": [
    "import mysql.connector\n",
    "mydb=mysql.connector.connect(\n",
    "host=\"localhost\",\n",
    "user=\"root\",\n",
    "password=\"kalyani@123\",\n",
    "database=\"student\")\n",
    "mycursor=mydb.cursor()\n",
    "def sign_up():\n",
    "    FName=input(\"Enter First name\")\n",
    "    LName=input(\"Enter Last name\")\n",
    "    Roll_no=input(\"Enter Roll_no\")\n",
    "    Email_id=input(\"Enter Email_id\")\n",
    "    password1=input(\"Enter Password\")\n",
    "    y=\"insert into login2(FName,LName,Roll_no,Email_id,password)values(%s,%s,%s,%s,%s)\"\n",
    "    val=(FName,LName,Roll_no,Email_id,password1)\n",
    "    try:\n",
    "        \n",
    "        mycursor.execute(y,val)\n",
    "        mydb.commit()\n",
    "    except:\n",
    "        print(password1,\"already detail registered\")\n",
    "    else:\n",
    "        \n",
    "          print(\"record inserted sucessfully\")\n",
    "def sign_in():\n",
    "    password=input(\"Enter password\")\n",
    "    s=\"select FName,LName,Roll_no,Email_id from login2 where password=%s\"\n",
    "    val=(password,)\n",
    "    mycursor.execute(s,val)\n",
    "    z=mycursor.fetchall()\n",
    "    for i,j,k,l in z:\n",
    "             FName=i\n",
    "             print(\"FName:\",FName)\n",
    "             LName=j\n",
    "             print(\"LName:\",LName)\n",
    "             Roll_no=k\n",
    "             print(\"Roll_no:\",Roll_no)\n",
    "             Email_id=l\n",
    "             print(\"Email_id:\",Email_id)\n",
    "             print(\"Login page\")\n",
    "def login_page():\n",
    "    print(\"1:sign_up\")\n",
    "    print(\"2: sing in\")\n",
    "    print(\"3: exit\")\n",
    "    a=input(\"Enter choice\")\n",
    "    try:\n",
    "        s=int(a)\n",
    "        return(s)\n",
    "    except:\n",
    "        print(\"only use number\")\n",
    "while True:\n",
    "    x=login_page()\n",
    "    if x==1:\n",
    "        sign_up()\n",
    "    elif x==2:\n",
    "        sign_in()\n",
    "    elif x==3:\n",
    "        break"
   ]
  },
  {
   "cell_type": "markdown",
   "metadata": {},
   "source": [
    "# project Use forgot"
   ]
  },
  {
   "cell_type": "code",
   "execution_count": 1,
   "metadata": {},
   "outputs": [
    {
     "name": "stdout",
     "output_type": "stream",
     "text": [
      "1:sign_up\n",
      "2: sing in\n",
      "3: forgot\n",
      "4: exit\n",
      "Enter choice3\n",
      "enter password:123@@##456\n",
      "enter Email_idkalyanibhardwaj00090@gmail.com\n",
      "Update sucessfully\n",
      "1:sign_up\n",
      "2: sing in\n",
      "3: forgot\n",
      "4: exit\n",
      "Enter choice2\n",
      "Enter password123@@##456\n",
      "FName: kalyani\n",
      "LName: bhardwaj\n",
      "Roll_no: 17EAIcs066\n",
      "Email_id: kalyanibhardwaj00090@gmail.com\n",
      "Login page\n",
      "1:sign_up\n",
      "2: sing in\n",
      "3: forgot\n",
      "4: exit\n",
      "Enter choice4\n"
     ]
    }
   ],
   "source": [
    "import mysql.connector\n",
    "mydb=mysql.connector.connect(\n",
    "host=\"localhost\",\n",
    "user=\"root\",\n",
    "password=\"kalyani@123\",\n",
    "database=\"student\")\n",
    "mycursor=mydb.cursor()use\n",
    "def sign_up():\n",
    "    FName=input(\"Enter First name\")\n",
    "    LName=input(\"Enter Last name\")\n",
    "    Roll_no=input(\"Enter Roll_no\")\n",
    "    Email_id=input(\"Enter Email_id\")\n",
    "    password1=input(\"Enter Password\")\n",
    "    y=\"insert into login2(FName,LName,Roll_no,Email_id,password)values(%s,%s,%s,%s,%s)\"\n",
    "    val=(FName,LName,Roll_no,Email_id,password1)\n",
    "    try:\n",
    "        \n",
    "        mycursor.execute(y,val)\n",
    "        mydb.commit()\n",
    "    except:\n",
    "        print(password1,\"already detail registered\")\n",
    "    else:\n",
    "        \n",
    "          print(\"record inserted sucessfully\")\n",
    "def sign_in():\n",
    "    password=input(\"Enter password\")\n",
    "    s=\"select FName,LName,Roll_no,Email_id from login2 where password=%s\"\n",
    "    val=(password,)\n",
    "    mycursor.execute(s,val)\n",
    "    z=mycursor.fetchall()\n",
    "    for i,j,k,l in z:\n",
    "             FName=i\n",
    "             print(\"FName:\",FName)\n",
    "             LName=j\n",
    "             print(\"LName:\",LName)\n",
    "             Roll_no=k\n",
    "             print(\"Roll_no:\",Roll_no)\n",
    "             Email_id=l\n",
    "             print(\"Email_id:\",Email_id)\n",
    "             print(\"Login page\")\n",
    "def forgot():\n",
    "    password=input(\"enter password:\")\n",
    "    Email_id=input(\"enter Email_id\")\n",
    "    x=\"update login2 set password=%s where Email_id=%s\"\n",
    "    val=(password,Email_id)\n",
    "    mycursor.execute(x,val)\n",
    "    mydb.commit()\n",
    "    print(\"Update sucessfully\")\n",
    "def login_page():\n",
    "    print(\"1:sign_up\")\n",
    "    print(\"2: sing in\")\n",
    "    print(\"3: forgot\")\n",
    "    print(\"4: exit\")\n",
    "    a=input(\"Enter choice\")\n",
    "    try:\n",
    "        s=int(a)\n",
    "        return(s)\n",
    "    except:\n",
    "        print(\"only use number\")\n",
    "while True:\n",
    "    x=login_page()\n",
    "    if x==1:\n",
    "        sign_up()\n",
    "    elif x==2:\n",
    "        sign_in()\n",
    "    elif x==3:\n",
    "        forgot()\n",
    "    elif x==4:\n",
    "        break"
   ]
  },
  {
   "cell_type": "code",
   "execution_count": 1,
   "metadata": {},
   "outputs": [
    {
     "name": "stdout",
     "output_type": "stream",
     "text": [
      "table create sucessfully\n"
     ]
    }
   ],
   "source": [
    "import mysql.connector\n",
    "mydb=mysql.connector.connect(\n",
    "host=\"localhost\",\n",
    "user=\"root\",\n",
    "password=\"kalyani@123\",\n",
    "database=\"student\")\n",
    "mycursor=mydb.cursor()\n",
    "mycursor.execute(\" create table Bank2(FName varchar(20),Lname varchar(30),account_no int(25) unique key,password int(13) unique key,balance int(20))\");                 \n",
    "print(\"table create sucessfully\")"
   ]
  },
  {
   "cell_type": "code",
   "execution_count": 6,
   "metadata": {},
   "outputs": [],
   "source": [
    "import mysql.connector\n",
    "mydb=mysql.connector.connect(\n",
    "host=\"localhost\",\n",
    "user=\"root\",\n",
    "password=\"kalyani@123\",\n",
    "database=\"student\")\n",
    "mycursor=mydb.cursor()\n",
    "    \n",
    "def Create_account():\n",
    "        \n",
    "        FName=input(\"Enter First name\")\n",
    "        LName=input(\"Enter Last name\")\n",
    "        account_no=input(\"Enter account number\")\n",
    "        password=input(\"Enter Password\")\n",
    "        balance=input(\"Enter balance\")\n",
    "        y=\"insert into bank2(FName,LName,account_no,password,balance)values(%s,%s,%s,%s,%s)\"\n",
    "        val=(FName,LName,account_no,password,balance)\n",
    "        mycursor.execute(y,val)\n",
    "        mydb.commit()\n",
    "        print(\"record inserted sucessfully\")\n",
    "def deposite():\n",
    "        balance=input(\"Enter amount:\")\n",
    "        account_no=input(\"enter account_no:\")\n",
    "        x=\"update bank2 set balance=%s where account_no=%s\"\n",
    "        val=(balance,account_no)\n",
    "        mycursor.execute(x,val)\n",
    "        mydb.commit()\n",
    "        "
   ]
  },
  {
   "cell_type": "code",
   "execution_count": 7,
   "metadata": {},
   "outputs": [
    {
     "name": "stdout",
     "output_type": "stream",
     "text": [
      "Enter First namekalyani\n",
      "Enter Last namebhardwaj\n",
      "Enter account number1234567\n",
      "Enter Password3455\n",
      "Enter balance0\n",
      "record inserted sucessfully\n"
     ]
    }
   ],
   "source": [
    "Create_account()"
   ]
  },
  {
   "cell_type": "code",
   "execution_count": 8,
   "metadata": {},
   "outputs": [
    {
     "name": "stdout",
     "output_type": "stream",
     "text": [
      "Enter amount:5000\n",
      "enter account_no:1234567\n"
     ]
    }
   ],
   "source": [
    "deposite()"
   ]
  },
  {
   "cell_type": "code",
   "execution_count": null,
   "metadata": {},
   "outputs": [],
   "source": []
  }
 ],
 "metadata": {
  "kernelspec": {
   "display_name": "Python 3 (ipykernel)",
   "language": "python",
   "name": "python3"
  },
  "language_info": {
   "codemirror_mode": {
    "name": "ipython",
    "version": 3
   },
   "file_extension": ".py",
   "mimetype": "text/x-python",
   "name": "python",
   "nbconvert_exporter": "python",
   "pygments_lexer": "ipython3",
   "version": "3.8.0"
  }
 },
 "nbformat": 4,
 "nbformat_minor": 4
}
