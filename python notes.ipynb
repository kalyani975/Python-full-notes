{
 "cells": [
  {
   "cell_type": "markdown",
   "metadata": {},
   "source": [
    "# python"
   ]
  },
  {
   "cell_type": "code",
   "execution_count": null,
   "metadata": {},
   "outputs": [],
   "source": [
    "# python is a programming language\n",
    "#python is a high level language\n",
    "# python is dynamic,interpreted lang\n",
    "# python is scripting lang\n",
    "#python is General purpose programming lang\n",
    "# python is portable=> the application which are develop by python on one patform \n",
    "are going to execute any platform without making any changes.\n",
    "#python is platform independent.\n",
    "#python is case sensitive,Real time programming lang."
   ]
  },
  {
   "cell_type": "code",
   "execution_count": null,
   "metadata": {},
   "outputs": [],
   "source": [
    "Variable=> variable is nothing it is a container which is used for \n",
    "            store data.\n",
    " Rule set:\n",
    " 1.it must be start with an alphabet.\n",
    " 2.it doesn't contain white space.\n",
    " 3.keywords cannot used as variable name.\n",
    "\n",
    "Data Tytes=> data-type is used for define which type\n",
    "             of value,variable will contain.\n",
    "Fundamental data-types (int,float,string,complex)\n",
    "Collection Data-types(list,touple,dict,set,range,froenset"
   ]
  },
  {
   "cell_type": "markdown",
   "metadata": {},
   "source": [
    "# Operators"
   ]
  },
  {
   "cell_type": "code",
   "execution_count": null,
   "metadata": {},
   "outputs": [],
   "source": [
    "1.Arithmetic(+,-,*,/,%,//)\n",
    "2.Comparision(==,!=,<,>,<=,>=)\n",
    "\n",
    "\n",
    "\n",
    "3.Logical(T,F)\n",
    "3.Assignment(=)\n",
    "4.Bitwise(and,or,xor,Not,left shift,right shift)\n"
   ]
  },
  {
   "cell_type": "code",
   "execution_count": 1,
   "metadata": {},
   "outputs": [
    {
     "name": "stdout",
     "output_type": "stream",
     "text": [
      "Enter first number:56\n",
      "Enter second number:9\n",
      "Add: 65\n"
     ]
    }
   ],
   "source": [
    "num=int(input(\"Enter first number:\"))\n",
    "num1=int(input(\"Enter second number:\"))\n",
    "num2=num+num1\n",
    "print(\"Add:\",num2)"
   ]
  },
  {
   "cell_type": "code",
   "execution_count": 2,
   "metadata": {},
   "outputs": [
    {
     "name": "stdout",
     "output_type": "stream",
     "text": [
      "Enter first number:7\n",
      "Enter second number:9\n",
      "sub: -2\n"
     ]
    }
   ],
   "source": [
    "num=int(input(\"Enter first number:\"))\n",
    "num1=int(input(\"Enter second number:\"))\n",
    "num2=num-num1\n",
    "print(\"sub:\",num2)"
   ]
  },
  {
   "cell_type": "code",
   "execution_count": 3,
   "metadata": {},
   "outputs": [
    {
     "name": "stdout",
     "output_type": "stream",
     "text": [
      "Enter first number:7\n",
      "Enter second number:9\n",
      "mul: 63\n"
     ]
    }
   ],
   "source": [
    "num=int(input(\"Enter first number:\"))\n",
    "num1=int(input(\"Enter second number:\"))\n",
    "num2=num*num1\n",
    "print(\"mul:\",num2)"
   ]
  },
  {
   "cell_type": "code",
   "execution_count": 4,
   "metadata": {},
   "outputs": [
    {
     "name": "stdout",
     "output_type": "stream",
     "text": [
      "Enter first number:8\n",
      "Enter second number:9\n",
      "div: 8\n"
     ]
    }
   ],
   "source": [
    "num=int(input(\"Enter first number:\"))\n",
    "num1=int(input(\"Enter second number:\"))\n",
    "num2=num%num1\n",
    "print(\"div:\",num2)"
   ]
  },
  {
   "cell_type": "code",
   "execution_count": 5,
   "metadata": {},
   "outputs": [
    {
     "name": "stdout",
     "output_type": "stream",
     "text": [
      "Enter first number:56\n",
      "Enter second number:7\n",
      "mod: 8.0\n"
     ]
    }
   ],
   "source": [
    "num=int(input(\"Enter first number:\"))\n",
    "num1=int(input(\"Enter second number:\"))\n",
    "num2=num/num1\n",
    "print(\"mod:\",num2)"
   ]
  },
  {
   "cell_type": "code",
   "execution_count": 6,
   "metadata": {},
   "outputs": [
    {
     "name": "stdout",
     "output_type": "stream",
     "text": [
      "Enter first number:78\n",
      "Enter second number:9\n",
      "fdiv: 8\n"
     ]
    }
   ],
   "source": [
    "num3=int(input(\"Enter first number:\"))\n",
    "num=int(input(\"Enter second number:\"))\n",
    "num2=num3//num\n",
    "print(\"fdiv:\",num2)"
   ]
  },
  {
   "cell_type": "code",
   "execution_count": 7,
   "metadata": {},
   "outputs": [
    {
     "name": "stdout",
     "output_type": "stream",
     "text": [
      "Enter first number:78\n",
      "Enter second number:89\n",
      "expo: 2491263352710084879541949832064021229485839836897365763785242906250171225037816245252538889132523801204488050168989828559036055755714915599298624386789060178312228241408\n"
     ]
    }
   ],
   "source": [
    "num=int(input(\"Enter first number:\"))\n",
    "num1=int(input(\"Enter second number:\"))\n",
    "num2=num**num1\n",
    "print(\"expo:\",num2)"
   ]
  },
  {
   "cell_type": "markdown",
   "metadata": {},
   "source": [
    "# Conditional statement:"
   ]
  },
  {
   "cell_type": "code",
   "execution_count": 8,
   "metadata": {},
   "outputs": [
    {
     "name": "stdout",
     "output_type": "stream",
     "text": [
      "Enter marks of math78\n",
      "enter marks of science89\n",
      "enter marks of hindi9\n",
      "enter marks of sst8\n",
      "enter marks of english7\n"
     ]
    }
   ],
   "source": [
    "# if condition\n",
    "math=float(input(\"Enter marks of math\"))\n",
    "science=float(input(\"enter marks of science\"))\n",
    "hindi=float(input(\"enter marks of hindi\"))\n",
    "sst=float(input(\"enter marks of sst\"))\n",
    "english=float(input(\"enter marks of english\"))\n",
    "total=math+science+hindi+sst+english\n",
    "avg=total/5\n",
    "if(avg>=40):\n",
    "    print(\"Total:\",total)\n",
    "    print(\"average:\",avg)"
   ]
  },
  {
   "cell_type": "code",
   "execution_count": 9,
   "metadata": {},
   "outputs": [
    {
     "name": "stdout",
     "output_type": "stream",
     "text": [
      "Enter marks of math78\n",
      "enter marks of science78\n",
      "enter marks of hindi90\n",
      "enter marks of sst67\n",
      "enter marks of english77\n",
      "pass\n"
     ]
    }
   ],
   "source": [
    "# if-else condition\n",
    "math=float(input(\"Enter marks of math\"))\n",
    "science=float(input(\"enter marks of science\"))\n",
    "hindi=float(input(\"enter marks of hindi\"))\n",
    "sst=float(input(\"enter marks of sst\"))\n",
    "english=float(input(\"enter marks of english\"))\n",
    "total=math+science+hindi+sst+english\n",
    "avg=total/5\n",
    "if(avg>=40):\n",
    "    print(\"pass\")\n",
    "else:\n",
    "    \n",
    "    print(\"fail\")"
   ]
  },
  {
   "cell_type": "code",
   "execution_count": 10,
   "metadata": {},
   "outputs": [
    {
     "name": "stdout",
     "output_type": "stream",
     "text": [
      "Enter marks of math78\n",
      "enter marks of science60\n",
      "enter marks of hindi55\n",
      "enter marks of sst45\n",
      "enter marks of english34\n",
      "second\n"
     ]
    }
   ],
   "source": [
    "# elif condition\n",
    "math=float(input(\"Enter marks of math\"))\n",
    "science=float(input(\"enter marks of science\"))\n",
    "hindi=float(input(\"enter marks of hindi\"))\n",
    "sst=float(input(\"enter marks of sst\"))\n",
    "english=float(input(\"enter marks of english\"))\n",
    "total=math+science+hindi+sst+english\n",
    "avg=total/5\n",
    "if(avg>=60):\n",
    "    print(\"first:\")\n",
    "elif(avg>=50):\n",
    "    print(\"second\")\n",
    "elif(avg>=40):\n",
    "      print(\"third:\")\n",
    "else:\n",
    "    print(\"fail:\")"
   ]
  },
  {
   "cell_type": "code",
   "execution_count": 11,
   "metadata": {},
   "outputs": [
    {
     "name": "stdout",
     "output_type": "stream",
     "text": [
      "Enter marks of math67\n",
      "enter marks of science66\n",
      "enter marks of hindi45\n",
      "enter marks of sst34\n",
      "enter marks of english33\n",
      "pass\n",
      "third\n"
     ]
    }
   ],
   "source": [
    "# nested if-else condition\n",
    "math=float(input(\"Enter marks of math\"))\n",
    "science=float(input(\"enter marks of science\"))\n",
    "hindi=float(input(\"enter marks of hindi\"))\n",
    "sst=float(input(\"enter marks of sst\"))\n",
    "english=float(input(\"enter marks of english\"))\n",
    "total=math+science+hindi+sst+english\n",
    "avg=total/5\n",
    "if(avg>=40):\n",
    "    print(\"pass\")\n",
    "    if(avg>=60):\n",
    "        print(\"first\")\n",
    "    elif(avg>=50):\n",
    "        print(\"second\")\n",
    "    else:\n",
    "      print(\"third\")\n",
    "else:\n",
    "    print(\"fail\")"
   ]
  },
  {
   "cell_type": "code",
   "execution_count": 12,
   "metadata": {},
   "outputs": [
    {
     "name": "stdout",
     "output_type": "stream",
     "text": [
      "Enter a number\n",
      "56\n",
      "Enter a number\n",
      "67\n",
      "Enter a number\n",
      "67\n",
      "greatest number is: 67\n"
     ]
    }
   ],
   "source": [
    "##### find greatest num among three number\n",
    "num1=int(input(\"Enter a number\\n\"))\n",
    "num2=int(input(\"Enter a number\\n\"))\n",
    "num3=int(input(\"Enter a number\\n\"))\n",
    "if((num1>num2) and (num1>num3)):\n",
    "               ptint(\"greatest number is:\", num1)\n",
    "elif((num2>num1) and(num2>num3)):\n",
    "               print(\"greatest number is:\", num2)\n",
    "else:\n",
    "               print(\"greatest number is:\", num3)"
   ]
  },
  {
   "cell_type": "code",
   "execution_count": 13,
   "metadata": {},
   "outputs": [
    {
     "name": "stdout",
     "output_type": "stream",
     "text": [
      "Enter a number\n",
      "78\n",
      "Enter a number\n",
      "89\n",
      "Enter a number\n",
      "55\n",
      "second largest number is: 78\n"
     ]
    }
   ],
   "source": [
    "#second largest number among three number\n",
    "num1=int(input(\"Enter a number\\n\"))\n",
    "num2=int(input(\"Enter a number\\n\"))\n",
    "num3=int(input(\"Enter a number\\n\"))\n",
    "\n",
    "\n",
    "if((num1>num2)and (num1<num3) or (num1>num3 and (num1<num2))):\n",
    "    print(\"second largest number is:\", num1)\n",
    "elif((num2>num1) and(num2<num3) or (num2>num3) and (num2<num1)):\n",
    "    print(\"second largest number is:\", num2)\n",
    "else:\n",
    "    print(\"second largest number is:\", num3)"
   ]
  },
  {
   "cell_type": "markdown",
   "metadata": {},
   "source": [
    "# session_List"
   ]
  },
  {
   "cell_type": "code",
   "execution_count": 14,
   "metadata": {},
   "outputs": [
    {
     "name": "stdout",
     "output_type": "stream",
     "text": [
      "5\n"
     ]
    }
   ],
   "source": [
    "#Total number of elements\n",
    "list=[2,3,4,5,6,]\n",
    "x=len(list)\n",
    "print(x)"
   ]
  },
  {
   "cell_type": "code",
   "execution_count": 15,
   "metadata": {},
   "outputs": [
    {
     "name": "stdout",
     "output_type": "stream",
     "text": [
      "[2, 3, 4, 5, 6]\n"
     ]
    }
   ],
   "source": [
    "#index=> it always start from zero.\n",
    "#it always pass in[]\n",
    "l=[2,3,4,5,6,]\n",
    "print(l)"
   ]
  },
  {
   "cell_type": "code",
   "execution_count": 16,
   "metadata": {},
   "outputs": [
    {
     "name": "stdout",
     "output_type": "stream",
     "text": [
      "11\n"
     ]
    }
   ],
   "source": [
    "#add the elements of list\n",
    "l=[12,13,5,6,7]\n",
    "x=l[2]+l[3]\n",
    "print(x)"
   ]
  },
  {
   "cell_type": "code",
   "execution_count": 17,
   "metadata": {},
   "outputs": [
    {
     "name": "stdout",
     "output_type": "stream",
     "text": [
      "[1, 50, 3, 4, 5, 6]\n"
     ]
    }
   ],
   "source": [
    "#update in list\n",
    "l=[1,2,3,4,5,6]\n",
    "l[1]=50\n",
    "print(l)"
   ]
  },
  {
   "cell_type": "code",
   "execution_count": 18,
   "metadata": {},
   "outputs": [
    {
     "name": "stdout",
     "output_type": "stream",
     "text": [
      "[3, 50, 4, 5, 7, 8, 9]\n"
     ]
    }
   ],
   "source": [
    "#insert in list insert(index,obj)\n",
    "l=[3,4,5,7,8,9]\n",
    "l.insert(1,50)\n",
    "print(l)"
   ]
  },
  {
   "cell_type": "code",
   "execution_count": 19,
   "metadata": {},
   "outputs": [
    {
     "name": "stdout",
     "output_type": "stream",
     "text": [
      "[5, 6, 7, 8, 9, 50]\n"
     ]
    }
   ],
   "source": [
    "#append in list\n",
    "l=[5,6,7,8,9]\n",
    "l.append(50)\n",
    "print(l)\n"
   ]
  },
  {
   "cell_type": "code",
   "execution_count": 20,
   "metadata": {},
   "outputs": [
    {
     "name": "stdout",
     "output_type": "stream",
     "text": [
      "l+l1: [3, 4, 5, 6, 7, 10, 11, 33, 44]\n"
     ]
    }
   ],
   "source": [
    "#extend in list\n",
    "l=[3,4,5,6,7]\n",
    "l2=[10,11,33,44]\n",
    "y=l+l2\n",
    "print(\"l+l1:\",y)"
   ]
  },
  {
   "cell_type": "code",
   "execution_count": 21,
   "metadata": {},
   "outputs": [
    {
     "name": "stdout",
     "output_type": "stream",
     "text": [
      "extend: [1, 3, 9, 8, 10, 11, 33, 44]\n"
     ]
    }
   ],
   "source": [
    "# have to put all elements of l1 in l2\n",
    "l1=[1,3,9,8]\n",
    "l2=[10,11,33,44]\n",
    "l1.extend(l2)\n",
    "print(\"extend:\",l1)"
   ]
  },
  {
   "cell_type": "code",
   "execution_count": 22,
   "metadata": {},
   "outputs": [
    {
     "name": "stdout",
     "output_type": "stream",
     "text": [
      "extend: [10, 11, 33, 44, 1, 3, 9, 8]\n"
     ]
    }
   ],
   "source": [
    "# have to put all elements of l2 in l1\n",
    "l1=[1,3,9,8]\n",
    "l2=[10,11,33,44]\n",
    "l2.extend(l1)\n",
    "print(\"extend:\",l2)"
   ]
  },
  {
   "cell_type": "code",
   "execution_count": 23,
   "metadata": {},
   "outputs": [
    {
     "name": "stdout",
     "output_type": "stream",
     "text": [
      "[9, 8, 7, 6, 5, 4, 3]\n"
     ]
    }
   ],
   "source": [
    "#Reverse in list\n",
    "l=[3,4,5,6,7,8,9]\n",
    "l.reverse()\n",
    "print(l)"
   ]
  },
  {
   "cell_type": "code",
   "execution_count": 24,
   "metadata": {},
   "outputs": [
    {
     "name": "stdout",
     "output_type": "stream",
     "text": [
      "[12, 45, 65, 89, 90]\n"
     ]
    }
   ],
   "source": [
    "#sort in list=>  it sort our list in acending order\n",
    "l=[12,89,90,65,45]\n",
    "l.sort()\n",
    "print(l)"
   ]
  },
  {
   "cell_type": "code",
   "execution_count": 1,
   "metadata": {},
   "outputs": [
    {
     "name": "stdout",
     "output_type": "stream",
     "text": [
      "[90, 89, 65, 45, 12]\n"
     ]
    }
   ],
   "source": [
    "#sort in decending order\n",
    "l=[12,89,90,65,45]\n",
    "l.sort()\n",
    "l.reverse()\n",
    "print(l)"
   ]
  },
  {
   "cell_type": "code",
   "execution_count": 2,
   "metadata": {},
   "outputs": [
    {
     "name": "stdout",
     "output_type": "stream",
     "text": [
      "[90, 89, 65, 45, 12]\n"
     ]
    }
   ],
   "source": [
    "#sort in decending order Method-2\n",
    "l=[12,89,90,65,45]\n",
    "l.sort(reverse=True)\n",
    "print(l)"
   ]
  },
  {
   "cell_type": "code",
   "execution_count": 3,
   "metadata": {
    "scrolled": true
   },
   "outputs": [
    {
     "name": "stdout",
     "output_type": "stream",
     "text": [
      "[1, 3, 4, 5, 6, 7]\n"
     ]
    }
   ],
   "source": [
    "#del keyword// this keyword delete elements of index postion\n",
    "l=[1,2,3,4,5,6,7]\n",
    "del l[1]\n",
    "print(l)\n",
    "     "
   ]
  },
  {
   "cell_type": "code",
   "execution_count": 4,
   "metadata": {},
   "outputs": [
    {
     "name": "stdout",
     "output_type": "stream",
     "text": [
      "[1, 3, 4, 5, 6]\n",
      "x= 7\n"
     ]
    }
   ],
   "source": [
    "#pop method\n",
    "l=[1,3,4,5,6,7]\n",
    "x=l.pop()\n",
    "print(l)\n",
    "print(\"x=\", x)"
   ]
  },
  {
   "cell_type": "code",
   "execution_count": 29,
   "metadata": {},
   "outputs": [
    {
     "name": "stdout",
     "output_type": "stream",
     "text": [
      "[1, 4, 5, 6, 7]\n",
      "x= 3\n"
     ]
    }
   ],
   "source": [
    "#pop method2\n",
    "l=[1,3,4,5,6,7]\n",
    "x=l.pop(1)\n",
    "print(l)\n",
    "print(\"x=\", x)"
   ]
  },
  {
   "cell_type": "code",
   "execution_count": 30,
   "metadata": {},
   "outputs": [
    {
     "name": "stdout",
     "output_type": "stream",
     "text": [
      "[2, 3, 4, 6, 7]\n"
     ]
    }
   ],
   "source": [
    "#remove method()\n",
    "l=[2,3,4,5,6,7]\n",
    "l.remove(5)\n",
    "print(l)"
   ]
  },
  {
   "cell_type": "code",
   "execution_count": 31,
   "metadata": {},
   "outputs": [
    {
     "name": "stdout",
     "output_type": "stream",
     "text": [
      "[]\n"
     ]
    }
   ],
   "source": [
    "#clear\n",
    "l=[2,3,4,5,6,7]\n",
    "l.clear()\n",
    "print(l)"
   ]
  },
  {
   "cell_type": "markdown",
   "metadata": {},
   "source": [
    "# append"
   ]
  },
  {
   "cell_type": "code",
   "execution_count": 32,
   "metadata": {},
   "outputs": [
    {
     "name": "stdout",
     "output_type": "stream",
     "text": [
      "x [12, 3, 4, 6, 79, 100]\n",
      "l [12, 3, 4, 6, 79, 100]\n"
     ]
    }
   ],
   "source": [
    " #append method\n",
    "l=[12,3,4,6,79]\n",
    "x=l\n",
    "l.append(100)\n",
    "print(\"x\", x)\n",
    "print(\"l\", l)"
   ]
  },
  {
   "cell_type": "code",
   "execution_count": null,
   "metadata": {},
   "outputs": [],
   "source": []
  },
  {
   "cell_type": "code",
   "execution_count": 33,
   "metadata": {},
   "outputs": [
    {
     "name": "stdout",
     "output_type": "stream",
     "text": [
      "[12, 3, 4, 6, 79]\n"
     ]
    }
   ],
   "source": [
    " #copy method\n",
    "l=[12,3,4,6,79]\n",
    "x=l.copy()\n",
    "print(x)\n",
    "#l.append(100)\n",
    "#print(\"x\", x)\n",
    "#print(\"l\", l)"
   ]
  },
  {
   "cell_type": "code",
   "execution_count": 34,
   "metadata": {},
   "outputs": [
    {
     "name": "stdout",
     "output_type": "stream",
     "text": [
      "x [12, 3, 4, 6, 79]\n",
      "l [12, 3, 4, 6, 79, 100]\n"
     ]
    }
   ],
   "source": [
    " #append method\n",
    "l=[12,3,4,6,79]\n",
    "x=l.copy()\n",
    "l.append(100)\n",
    "print(\"x\", x)\n",
    "print(\"l\", l)"
   ]
  },
  {
   "cell_type": "code",
   "execution_count": 35,
   "metadata": {},
   "outputs": [
    {
     "name": "stdout",
     "output_type": "stream",
     "text": [
      "4\n"
     ]
    }
   ],
   "source": [
    "#count method\n",
    "l=[4,6,7,9,8,8,8,8,9,9]\n",
    "x=l.count(8)\n",
    "print(x)"
   ]
  },
  {
   "cell_type": "code",
   "execution_count": 36,
   "metadata": {
    "scrolled": true
   },
   "outputs": [
    {
     "name": "stdout",
     "output_type": "stream",
     "text": [
      "index: 4\n"
     ]
    }
   ],
   "source": [
    "#index method in list\n",
    "l=[1,3,4,5,6,7]\n",
    "x=l.index(6)\n",
    "print(\"index:\", x)\n"
   ]
  },
  {
   "cell_type": "code",
   "execution_count": 37,
   "metadata": {},
   "outputs": [
    {
     "name": "stdout",
     "output_type": "stream",
     "text": [
      "grapes\n"
     ]
    }
   ],
   "source": [
    "fruits_name=[\"apple\",\"mango\",\"grapes\",\"papaya\"]\n",
    "print(fruits_name[2])\n",
    "\n"
   ]
  },
  {
   "cell_type": "code",
   "execution_count": 38,
   "metadata": {},
   "outputs": [
    {
     "name": "stdout",
     "output_type": "stream",
     "text": [
      "appleapple\n",
      "mangomango\n",
      "grapesgrapes\n",
      "papayapapaya\n"
     ]
    }
   ],
   "source": [
    "fruits_name=[\"apple\",\"mango\",\"grapes\",\"papaya\"]\n",
    "for i in fruits_name:\n",
    "          print(i*2)\n"
   ]
  },
  {
   "cell_type": "code",
   "execution_count": 39,
   "metadata": {},
   "outputs": [
    {
     "name": "stdout",
     "output_type": "stream",
     "text": [
      "apple apple \n",
      "mango mango \n",
      "grapes grapes \n",
      "papaya papaya \n"
     ]
    }
   ],
   "source": [
    "fruits_name=[\"apple\",\"mango\",\"grapes\",\"papaya\"]\n",
    "for i in fruits_name:\n",
    "          print((i+\" \")*2)"
   ]
  },
  {
   "cell_type": "code",
   "execution_count": 1,
   "metadata": {
    "scrolled": true
   },
   "outputs": [
    {
     "name": "stdout",
     "output_type": "stream",
     "text": [
      "Enter number:5\n",
      "5\n",
      "10\n",
      "15\n",
      "20\n",
      "25\n",
      "30\n",
      "35\n",
      "40\n",
      "45\n",
      "50\n"
     ]
    }
   ],
   "source": [
    "data=int(input(\"Enter number:\"))\n",
    "l=[1,2,3,4,5,6,7,8,9,10]\n",
    "for i in l:\n",
    "      print(i*data)"
   ]
  },
  {
   "cell_type": "code",
   "execution_count": 41,
   "metadata": {},
   "outputs": [
    {
     "name": "stdout",
     "output_type": "stream",
     "text": [
      "how many number you want to store:2\n",
      "Enter name:kkk\n",
      "Enter name:llll\n",
      "List of name: ['kkk', 'llll']\n"
     ]
    }
   ],
   "source": [
    "num=int(input(\"how many number you want to store:\"))\n",
    "name=[]\n",
    "for i in range(num):\n",
    "       data=input(\"Enter name:\")\n",
    "       name.append(data)\n",
    "print(\"List of name:\",name)"
   ]
  },
  {
   "cell_type": "code",
   "execution_count": 42,
   "metadata": {},
   "outputs": [
    {
     "name": "stdout",
     "output_type": "stream",
     "text": [
      "how many number you want to store:5\n",
      "Enter name:uuu\n",
      "Enter name:ooo\n",
      "Enter name:iii\n",
      "Enter name:kk\n",
      "Enter name:hh\n",
      "List of name: ['uuu', 'ooo', 'iii', 'kk', 'hh']\n"
     ]
    }
   ],
   "source": [
    "num=int(input(\"how many number you want to store:\"))\n",
    "name=[]\n",
    "for i in range(num):\n",
    "       data=input(\"Enter name:\")\n",
    "       name.append(data)\n",
    "print(\"List of name:\",name)\n",
    "\n"
   ]
  },
  {
   "cell_type": "markdown",
   "metadata": {},
   "source": [
    "# session STRING\n",
    "\n"
   ]
  },
  {
   "cell_type": "code",
   "execution_count": 43,
   "metadata": {},
   "outputs": [
    {
     "name": "stdout",
     "output_type": "stream",
     "text": [
      "14\n"
     ]
    }
   ],
   "source": [
    "data=\"this is string\"\n",
    "print(len(data))"
   ]
  },
  {
   "cell_type": "code",
   "execution_count": 44,
   "metadata": {},
   "outputs": [
    {
     "name": "stdout",
     "output_type": "stream",
     "text": [
      "t\n",
      "h\n",
      "i\n",
      "s\n",
      " \n",
      "i\n",
      "s\n",
      " \n",
      "s\n",
      "t\n",
      "r\n",
      "i\n",
      "n\n",
      "g\n"
     ]
    }
   ],
   "source": [
    "data=\"this is string\"\n",
    "for i in data:\n",
    "    print(i)"
   ]
  },
  {
   "cell_type": "markdown",
   "metadata": {},
   "source": [
    "data=\"this is string\"\n",
    "x=data[:1]\n",
    "print(x)\n",
    "#sclicing methd in string"
   ]
  },
  {
   "cell_type": "code",
   "execution_count": 7,
   "metadata": {},
   "outputs": [
    {
     "name": "stdout",
     "output_type": "stream",
     "text": [
      "tsg\n"
     ]
    }
   ],
   "source": [
    "data=\"this isotring\"\n",
    "x=data[::6]\n",
    "print(x)"
   ]
  },
  {
   "cell_type": "code",
   "execution_count": 9,
   "metadata": {},
   "outputs": [
    {
     "name": "stdout",
     "output_type": "stream",
     "text": [
      "string\n"
     ]
    }
   ],
   "source": [
    "data=\"this is string\"\n",
    "x=data[8:]\n",
    "print(x)"
   ]
  },
  {
   "cell_type": "code",
   "execution_count": 48,
   "metadata": {},
   "outputs": [
    {
     "name": "stdout",
     "output_type": "stream",
     "text": [
      "string\n"
     ]
    }
   ],
   "source": [
    "data=\"this is string\"\n",
    "x=data[8::]\n",
    "print(x)"
   ]
  },
  {
   "cell_type": "code",
   "execution_count": 49,
   "metadata": {},
   "outputs": [
    {
     "name": "stdout",
     "output_type": "stream",
     "text": [
      "is\n"
     ]
    }
   ],
   "source": [
    "data=\"this isotring\"\n",
    "x=data[5:7]\n",
    "print(x)"
   ]
  },
  {
   "cell_type": "code",
   "execution_count": 50,
   "metadata": {},
   "outputs": [
    {
     "name": "stdout",
     "output_type": "stream",
     "text": [
      "This is string\n"
     ]
    }
   ],
   "source": [
    "data=\"this is string\"\n",
    "x=data.capitalize()\n",
    "print(x)"
   ]
  },
  {
   "cell_type": "code",
   "execution_count": 51,
   "metadata": {},
   "outputs": [
    {
     "name": "stdout",
     "output_type": "stream",
     "text": [
      "this is string\n"
     ]
    }
   ],
   "source": [
    "data=\"This Is string\"\n",
    "x=data.lower()\n",
    "print(x)"
   ]
  },
  {
   "cell_type": "code",
   "execution_count": 52,
   "metadata": {},
   "outputs": [
    {
     "name": "stdout",
     "output_type": "stream",
     "text": [
      "THIS IS STRING\n"
     ]
    }
   ],
   "source": [
    "data=\"this is string\"\n",
    "x=data.upper()\n",
    "print(x)"
   ]
  },
  {
   "cell_type": "code",
   "execution_count": 53,
   "metadata": {},
   "outputs": [
    {
     "name": "stdout",
     "output_type": "stream",
     "text": [
      "This Is String\n"
     ]
    }
   ],
   "source": [
    "data=\"this is string\"\n",
    "x=data.title()\n",
    "print(x)"
   ]
  },
  {
   "cell_type": "code",
   "execution_count": 54,
   "metadata": {},
   "outputs": [
    {
     "name": "stdout",
     "output_type": "stream",
     "text": [
      "this is python\n"
     ]
    }
   ],
   "source": [
    "data=\"This Is python\"\n",
    "x=data.casefold()\n",
    "print(x)"
   ]
  },
  {
   "cell_type": "code",
   "execution_count": 55,
   "metadata": {},
   "outputs": [
    {
     "name": "stdout",
     "output_type": "stream",
     "text": [
      "this is python\n"
     ]
    }
   ],
   "source": [
    "data=\"This Is PythOn\"\n",
    "x=data.casefold()\n",
    "print(x)"
   ]
  },
  {
   "cell_type": "code",
   "execution_count": 56,
   "metadata": {},
   "outputs": [
    {
     "name": "stdout",
     "output_type": "stream",
     "text": [
      "2\n"
     ]
    }
   ],
   "source": [
    "data=\"this is python\"\n",
    "x=data.count('i')\n",
    "print(x)"
   ]
  },
  {
   "cell_type": "code",
   "execution_count": 57,
   "metadata": {},
   "outputs": [
    {
     "name": "stdout",
     "output_type": "stream",
     "text": [
      "1\n"
     ]
    }
   ],
   "source": [
    "data=\"this Is python\"\n",
    "x=data.count('i')\n",
    "print(x)\n"
   ]
  },
  {
   "cell_type": "code",
   "execution_count": 58,
   "metadata": {},
   "outputs": [
    {
     "name": "stdout",
     "output_type": "stream",
     "text": [
      "1\n"
     ]
    }
   ],
   "source": [
    "data=\"this Is python\"\n",
    "x=data.count('I')\n",
    "print(x)"
   ]
  },
  {
   "cell_type": "code",
   "execution_count": 59,
   "metadata": {},
   "outputs": [
    {
     "name": "stdout",
     "output_type": "stream",
     "text": [
      "####this Is python####\n"
     ]
    }
   ],
   "source": [
    "data=\"this Is python\"\n",
    "x=data.center(22,'#')\n",
    "print(x)"
   ]
  },
  {
   "cell_type": "code",
   "execution_count": 60,
   "metadata": {},
   "outputs": [
    {
     "name": "stdout",
     "output_type": "stream",
     "text": [
      "    this Is python    \n"
     ]
    }
   ],
   "source": [
    "data=\"this Is python\"\n",
    "x=data.center(22)\n",
    "print(x)\n",
    "#they gives both size space equal"
   ]
  },
  {
   "cell_type": "code",
   "execution_count": 61,
   "metadata": {},
   "outputs": [
    {
     "name": "stdout",
     "output_type": "stream",
     "text": [
      "###this Is python###\n"
     ]
    }
   ],
   "source": [
    "data=\"this Is python\"\n",
    "x=data.center(20,'#')\n",
    "print(x)"
   ]
  },
  {
   "cell_type": "code",
   "execution_count": 62,
   "metadata": {},
   "outputs": [
    {
     "name": "stdout",
     "output_type": "stream",
     "text": [
      "##################this Is python##################\n"
     ]
    }
   ],
   "source": [
    "data=\"this Is python\"\n",
    "x=data.center(50,'#')\n",
    "print(x)"
   ]
  },
  {
   "cell_type": "code",
   "execution_count": 63,
   "metadata": {},
   "outputs": [
    {
     "name": "stdout",
     "output_type": "stream",
     "text": [
      "this  python\n"
     ]
    }
   ],
   "source": [
    "data=\"     this  python    \"\n",
    "x=data.strip()\n",
    "print(x)"
   ]
  },
  {
   "cell_type": "code",
   "execution_count": 2,
   "metadata": {},
   "outputs": [
    {
     "name": "stdout",
     "output_type": "stream",
     "text": [
      "-1\n"
     ]
    }
   ],
   "source": [
    "data=\"this is python\"\n",
    "x=data.find('th p')\n",
    "print(x)"
   ]
  },
  {
   "cell_type": "code",
   "execution_count": 65,
   "metadata": {},
   "outputs": [
    {
     "name": "stdout",
     "output_type": "stream",
     "text": [
      "-1\n"
     ]
    }
   ],
   "source": [
    "data=\"this is python\"\n",
    "x=data.find('t p')\n",
    "print(x)"
   ]
  },
  {
   "cell_type": "code",
   "execution_count": 8,
   "metadata": {},
   "outputs": [
    {
     "name": "stdout",
     "output_type": "stream",
     "text": [
      "2\n"
     ]
    }
   ],
   "source": [
    "data=\"this is string\"\n",
    "x=data.find('is i')\n",
    "print(x)"
   ]
  },
  {
   "cell_type": "code",
   "execution_count": 67,
   "metadata": {},
   "outputs": [
    {
     "name": "stdout",
     "output_type": "stream",
     "text": [
      "-1\n"
     ]
    }
   ],
   "source": [
    "data=\"this is my first class\"\n",
    "x=data.find('my c')\n",
    "print(x)"
   ]
  },
  {
   "cell_type": "code",
   "execution_count": 68,
   "metadata": {},
   "outputs": [
    {
     "name": "stdout",
     "output_type": "stream",
     "text": [
      "-1\n"
     ]
    }
   ],
   "source": [
    "data='d t o p v b n m i'\n",
    "x=data.find('o b')\n",
    "print(x)"
   ]
  },
  {
   "cell_type": "code",
   "execution_count": 4,
   "metadata": {},
   "outputs": [
    {
     "name": "stdout",
     "output_type": "stream",
     "text": [
      "5\n"
     ]
    }
   ],
   "source": [
    "data=\"this is my firs class\"\n",
    "x=data.index('is my')\n",
    "print(x)"
   ]
  },
  {
   "cell_type": "code",
   "execution_count": 70,
   "metadata": {},
   "outputs": [
    {
     "name": "stdout",
     "output_type": "stream",
     "text": [
      "['this', ',is ,my ,first']\n"
     ]
    }
   ],
   "source": [
    "data=\"this ,is ,my ,first\"\n",
    "x=data.split(\" \",maxsplit=1)\n",
    "print(x)"
   ]
  },
  {
   "cell_type": "code",
   "execution_count": 6,
   "metadata": {},
   "outputs": [
    {
     "name": "stdout",
     "output_type": "stream",
     "text": [
      "['this', ' is, my, first']\n"
     ]
    }
   ],
   "source": [
    "data=\"this, is, my, first\"\n",
    "x=data.split(\",\",maxsplit=1)\n",
    "print(x)"
   ]
  },
  {
   "cell_type": "code",
   "execution_count": 72,
   "metadata": {},
   "outputs": [
    {
     "name": "stdout",
     "output_type": "stream",
     "text": [
      "this \n",
      "first class\n"
     ]
    }
   ],
   "source": [
    "data=\"this \\nfirst class\"\n",
    "print(data)"
   ]
  },
  {
   "cell_type": "code",
   "execution_count": 73,
   "metadata": {},
   "outputs": [
    {
     "name": "stdout",
     "output_type": "stream",
     "text": [
      " this is class\n",
      "my class\n",
      "class\n"
     ]
    }
   ],
   "source": [
    "data=\"\"\" this is class\n",
    "my class\n",
    "class\"\"\"\n",
    "print(data)"
   ]
  },
  {
   "cell_type": "code",
   "execution_count": 74,
   "metadata": {},
   "outputs": [
    {
     "name": "stdout",
     "output_type": "stream",
     "text": [
      "this is class 5+6\n"
     ]
    }
   ],
   "source": [
    "data=\"this is class 5+6\"\n",
    "print(data)\n"
   ]
  },
  {
   "cell_type": "code",
   "execution_count": 75,
   "metadata": {},
   "outputs": [
    {
     "name": "stdout",
     "output_type": "stream",
     "text": [
      "this is class 11\n"
     ]
    }
   ],
   "source": [
    "data=f\"this is class {5+6}\"\n",
    "print(data)"
   ]
  },
  {
   "cell_type": "markdown",
   "metadata": {},
   "source": [
    "# touple"
   ]
  },
  {
   "cell_type": "code",
   "execution_count": 76,
   "metadata": {},
   "outputs": [
    {
     "name": "stdout",
     "output_type": "stream",
     "text": [
      "6\n"
     ]
    }
   ],
   "source": [
    "t=(1,2,3,4,5,6)\n",
    "print(len(t))"
   ]
  },
  {
   "cell_type": "code",
   "execution_count": 77,
   "metadata": {},
   "outputs": [
    {
     "name": "stdout",
     "output_type": "stream",
     "text": [
      "6\n"
     ]
    }
   ],
   "source": [
    "t=(1,2,3,4,5,6)\n",
    "print(max(t))"
   ]
  },
  {
   "cell_type": "code",
   "execution_count": 78,
   "metadata": {},
   "outputs": [
    {
     "name": "stdout",
     "output_type": "stream",
     "text": [
      "1\n"
     ]
    }
   ],
   "source": [
    "t=(1,2,3,4,5,6)\n",
    "print(min(t))"
   ]
  },
  {
   "cell_type": "code",
   "execution_count": 79,
   "metadata": {},
   "outputs": [
    {
     "name": "stdout",
     "output_type": "stream",
     "text": [
      "21\n"
     ]
    }
   ],
   "source": [
    "t=(1,2,3,4,5,6)\n",
    "print(sum(t))"
   ]
  },
  {
   "cell_type": "code",
   "execution_count": 7,
   "metadata": {},
   "outputs": [
    {
     "name": "stdout",
     "output_type": "stream",
     "text": [
      "(1, 2, 3, 4, 5, 6, 100)\n"
     ]
    }
   ],
   "source": [
    "t=(1,2,3,4,5,6)\n",
    "t=list(t)\n",
    "t.append(100)\n",
    "t=tuple(t)\n",
    "print(t)"
   ]
  },
  {
   "cell_type": "code",
   "execution_count": 5,
   "metadata": {},
   "outputs": [
    {
     "name": "stdout",
     "output_type": "stream",
     "text": [
      "1\n",
      "3\n",
      "6\n",
      "10\n",
      "15\n",
      "21\n"
     ]
    }
   ],
   "source": [
    "t=(1,2,3,4,5,6)\n",
    "x=0\n",
    "for i in t:\n",
    "    i=int(i)\n",
    "    x=x+i\n",
    "    print(x)"
   ]
  },
  {
   "cell_type": "markdown",
   "metadata": {},
   "source": [
    "# FUNCTION"
   ]
  },
  {
   "cell_type": "markdown",
   "metadata": {},
   "source": [
    "# user define function type is 4\n",
    "#without parameter without return\n",
    "#without parameter with return\n",
    "#with parameter without return\n",
    "#with parameter with return"
   ]
  },
  {
   "cell_type": "code",
   "execution_count": 82,
   "metadata": {},
   "outputs": [],
   "source": [
    "def add():\n",
    "    \n",
    "    n=int(input(\"enetr a number:\"))\n",
    "    n1=int(input(\"enetr second number:\"))\n",
    "    num=n+n1\n",
    "    print(\"add\", num)\n",
    "    #first case"
   ]
  },
  {
   "cell_type": "code",
   "execution_count": 83,
   "metadata": {},
   "outputs": [
    {
     "name": "stdout",
     "output_type": "stream",
     "text": [
      "enetr a number:67\n",
      "enetr second number:9\n",
      "add 76\n"
     ]
    }
   ],
   "source": [
    "add()"
   ]
  },
  {
   "cell_type": "code",
   "execution_count": 84,
   "metadata": {},
   "outputs": [
    {
     "name": "stdout",
     "output_type": "stream",
     "text": [
      "enetr a number:78\n",
      "enetr second number:9\n",
      "add 87\n"
     ]
    }
   ],
   "source": [
    "add()"
   ]
  },
  {
   "cell_type": "code",
   "execution_count": 85,
   "metadata": {},
   "outputs": [],
   "source": [
    "def add():\n",
    "    \n",
    "    n=int(input(\"enetr a number:\"))\n",
    "    n1=int(input(\"enetr second number:\"))\n",
    "    num=n+n1\n",
    "    return num\n",
    "    \n",
    "    "
   ]
  },
  {
   "cell_type": "code",
   "execution_count": 86,
   "metadata": {},
   "outputs": [
    {
     "name": "stdout",
     "output_type": "stream",
     "text": [
      "enetr a number:78\n",
      "enetr second number:89\n",
      "167\n"
     ]
    }
   ],
   "source": [
    "x=add()\n",
    "print(x)"
   ]
  },
  {
   "cell_type": "code",
   "execution_count": 87,
   "metadata": {},
   "outputs": [
    {
     "name": "stdout",
     "output_type": "stream",
     "text": [
      "enetr a number:89\n",
      "enetr second number:88\n",
      "177\n"
     ]
    }
   ],
   "source": [
    "x=add()\n",
    "print(x)"
   ]
  },
  {
   "cell_type": "code",
   "execution_count": 88,
   "metadata": {},
   "outputs": [
    {
     "name": "stdout",
     "output_type": "stream",
     "text": [
      "enetr a number:89\n",
      "enetr second number:99\n",
      "188\n"
     ]
    }
   ],
   "source": [
    "x=add()\n",
    "print(x)"
   ]
  },
  {
   "cell_type": "code",
   "execution_count": 89,
   "metadata": {},
   "outputs": [],
   "source": [
    "#paas value nothing return\n",
    "def sub(n1,n2):\n",
    "    num=n1-n2\n",
    "    print(\"subtract a number:\",num)"
   ]
  },
  {
   "cell_type": "code",
   "execution_count": 90,
   "metadata": {},
   "outputs": [
    {
     "name": "stdout",
     "output_type": "stream",
     "text": [
      "subtract a number: -1\n"
     ]
    }
   ],
   "source": [
    "sub(8,9)"
   ]
  },
  {
   "cell_type": "code",
   "execution_count": 91,
   "metadata": {},
   "outputs": [],
   "source": [
    "#pass value return someting\n",
    "def sub(n1,n2):\n",
    "    num=n1-n2\n",
    "    return num \n"
   ]
  },
  {
   "cell_type": "code",
   "execution_count": 92,
   "metadata": {},
   "outputs": [
    {
     "name": "stdout",
     "output_type": "stream",
     "text": [
      "-2\n"
     ]
    }
   ],
   "source": [
    "x=sub(7,9)\n",
    "print(x)"
   ]
  },
  {
   "cell_type": "code",
   "execution_count": 93,
   "metadata": {},
   "outputs": [
    {
     "name": "stdout",
     "output_type": "stream",
     "text": [
      "4\n"
     ]
    }
   ],
   "source": [
    "x=sub(10,5)-sub(2,1)\n",
    "print(x)"
   ]
  },
  {
   "cell_type": "code",
   "execution_count": 94,
   "metadata": {},
   "outputs": [],
   "source": [
    "def fact():\n",
    "    f=1\n",
    "    n=int(input(\"enter a number:\"))\n",
    "    for i in range(1,n+1):\n",
    "        f=f*i\n",
    "        print(\"factorial is:\",f)"
   ]
  },
  {
   "cell_type": "code",
   "execution_count": 95,
   "metadata": {},
   "outputs": [
    {
     "name": "stdout",
     "output_type": "stream",
     "text": [
      "enter a number:8\n",
      "factorial is: 1\n",
      "factorial is: 2\n",
      "factorial is: 6\n",
      "factorial is: 24\n",
      "factorial is: 120\n",
      "factorial is: 720\n",
      "factorial is: 5040\n",
      "factorial is: 40320\n"
     ]
    }
   ],
   "source": [
    "fact()"
   ]
  },
  {
   "cell_type": "code",
   "execution_count": 96,
   "metadata": {},
   "outputs": [],
   "source": [
    "def fact(n):\n",
    "    f=1\n",
    "    for i in range(1,n+1):\n",
    "        f=f*i\n",
    "        print(\"factorial is:\",f)"
   ]
  },
  {
   "cell_type": "code",
   "execution_count": 97,
   "metadata": {},
   "outputs": [
    {
     "name": "stdout",
     "output_type": "stream",
     "text": [
      "factorial is: 1\n",
      "factorial is: 2\n",
      "factorial is: 6\n"
     ]
    }
   ],
   "source": [
    "fact(3)"
   ]
  },
  {
   "cell_type": "code",
   "execution_count": 98,
   "metadata": {},
   "outputs": [],
   "source": [
    "def fact():\n",
    "    f=1\n",
    "    n=int(input(\"enter a number:\"))\n",
    "    for i in range(1,n+1):\n",
    "        f=f*i\n",
    "       \n",
    "    \n",
    "    return f   "
   ]
  },
  {
   "cell_type": "code",
   "execution_count": 99,
   "metadata": {},
   "outputs": [
    {
     "name": "stdout",
     "output_type": "stream",
     "text": [
      "enter a number:8\n",
      "40320\n"
     ]
    }
   ],
   "source": [
    "x=fact()\n",
    "print(x)"
   ]
  },
  {
   "cell_type": "code",
   "execution_count": 100,
   "metadata": {},
   "outputs": [],
   "source": [
    "def fact(n):\n",
    "    f=1\n",
    "    for i in range(1,n+1):\n",
    "        f=f*i\n",
    "       \n",
    "    \n",
    "    return f  "
   ]
  },
  {
   "cell_type": "code",
   "execution_count": 101,
   "metadata": {},
   "outputs": [
    {
     "name": "stdout",
     "output_type": "stream",
     "text": [
      "120\n"
     ]
    }
   ],
   "source": [
    "x=fact(5)\n",
    "print(x)"
   ]
  },
  {
   "cell_type": "code",
   "execution_count": 102,
   "metadata": {},
   "outputs": [],
   "source": [
    "import random as r"
   ]
  },
  {
   "cell_type": "code",
   "execution_count": 103,
   "metadata": {},
   "outputs": [
    {
     "data": {
      "text/plain": [
       "8"
      ]
     },
     "execution_count": 103,
     "metadata": {},
     "output_type": "execute_result"
    }
   ],
   "source": [
    "r.randint(1,10)"
   ]
  },
  {
   "cell_type": "code",
   "execution_count": 104,
   "metadata": {},
   "outputs": [
    {
     "data": {
      "text/plain": [
       "10"
      ]
     },
     "execution_count": 104,
     "metadata": {},
     "output_type": "execute_result"
    }
   ],
   "source": [
    "r.randint(1,10)"
   ]
  },
  {
   "cell_type": "code",
   "execution_count": 105,
   "metadata": {},
   "outputs": [
    {
     "data": {
      "text/plain": [
       "8"
      ]
     },
     "execution_count": 105,
     "metadata": {},
     "output_type": "execute_result"
    }
   ],
   "source": [
    "r.randint(1,10)"
   ]
  },
  {
   "cell_type": "code",
   "execution_count": 106,
   "metadata": {},
   "outputs": [
    {
     "data": {
      "text/plain": [
       "'vivek'"
      ]
     },
     "execution_count": 106,
     "metadata": {},
     "output_type": "execute_result"
    }
   ],
   "source": [
    "l=[\"vivek\",\"kalyani\",\"Mohan\",\"Raman\"]\n",
    "r.choice(l)"
   ]
  },
  {
   "cell_type": "code",
   "execution_count": 107,
   "metadata": {},
   "outputs": [
    {
     "data": {
      "text/plain": [
       "'Mohan'"
      ]
     },
     "execution_count": 107,
     "metadata": {},
     "output_type": "execute_result"
    }
   ],
   "source": [
    "l=[\"vivek\",\"kalyani\",\"Mohan\",\"Raman\"]\n",
    "r.choice(l)"
   ]
  },
  {
   "cell_type": "code",
   "execution_count": 108,
   "metadata": {},
   "outputs": [
    {
     "data": {
      "text/plain": [
       "0.2800974583140412"
      ]
     },
     "execution_count": 108,
     "metadata": {},
     "output_type": "execute_result"
    }
   ],
   "source": [
    "#random function given any randow elements\n",
    "r.random()"
   ]
  },
  {
   "cell_type": "code",
   "execution_count": 109,
   "metadata": {},
   "outputs": [
    {
     "data": {
      "text/plain": [
       "6"
      ]
     },
     "execution_count": 109,
     "metadata": {},
     "output_type": "execute_result"
    }
   ],
   "source": [
    "r.randrange(1,10,5)"
   ]
  },
  {
   "cell_type": "code",
   "execution_count": 110,
   "metadata": {},
   "outputs": [],
   "source": [
    "import random as r\n",
    "def roll_dice():\n",
    "    x=r.randint(1,6)\n",
    "    print(x)\n",
    "    if x==6:\n",
    "        roll_dice()\n",
    "# ludo game program"
   ]
  },
  {
   "cell_type": "code",
   "execution_count": 111,
   "metadata": {},
   "outputs": [
    {
     "name": "stdout",
     "output_type": "stream",
     "text": [
      "2\n"
     ]
    }
   ],
   "source": [
    "roll_dice()"
   ]
  },
  {
   "cell_type": "code",
   "execution_count": 112,
   "metadata": {},
   "outputs": [
    {
     "name": "stdout",
     "output_type": "stream",
     "text": [
      "6\n",
      "5\n"
     ]
    }
   ],
   "source": [
    "roll_dice()"
   ]
  },
  {
   "cell_type": "code",
   "execution_count": 113,
   "metadata": {},
   "outputs": [
    {
     "name": "stdout",
     "output_type": "stream",
     "text": [
      "5\n"
     ]
    }
   ],
   "source": [
    "roll_dice()"
   ]
  },
  {
   "cell_type": "code",
   "execution_count": 114,
   "metadata": {},
   "outputs": [
    {
     "name": "stdout",
     "output_type": "stream",
     "text": [
      "5\n"
     ]
    }
   ],
   "source": [
    "roll_dice()"
   ]
  },
  {
   "cell_type": "code",
   "execution_count": 115,
   "metadata": {},
   "outputs": [
    {
     "name": "stdout",
     "output_type": "stream",
     "text": [
      "6\n",
      "3\n"
     ]
    }
   ],
   "source": [
    "roll_dice()"
   ]
  },
  {
   "cell_type": "code",
   "execution_count": 116,
   "metadata": {},
   "outputs": [],
   "source": [
    "import math as s"
   ]
  },
  {
   "cell_type": "code",
   "execution_count": 117,
   "metadata": {},
   "outputs": [
    {
     "data": {
      "text/plain": [
       "8.0"
      ]
     },
     "execution_count": 117,
     "metadata": {},
     "output_type": "execute_result"
    }
   ],
   "source": [
    "s.pow(2,3)"
   ]
  },
  {
   "cell_type": "code",
   "execution_count": 118,
   "metadata": {},
   "outputs": [
    {
     "data": {
      "text/plain": [
       "20.085536923187668"
      ]
     },
     "execution_count": 118,
     "metadata": {},
     "output_type": "execute_result"
    }
   ],
   "source": [
    "s.exp(3)"
   ]
  },
  {
   "cell_type": "code",
   "execution_count": 119,
   "metadata": {},
   "outputs": [
    {
     "data": {
      "text/plain": [
       "2.0"
      ]
     },
     "execution_count": 119,
     "metadata": {},
     "output_type": "execute_result"
    }
   ],
   "source": [
    "s.sqrt(4)"
   ]
  },
  {
   "cell_type": "code",
   "execution_count": 120,
   "metadata": {},
   "outputs": [
    {
     "data": {
      "text/plain": [
       "-0.6536436208636119"
      ]
     },
     "execution_count": 120,
     "metadata": {},
     "output_type": "execute_result"
    }
   ],
   "source": [
    "s.cos(4)"
   ]
  },
  {
   "cell_type": "code",
   "execution_count": 121,
   "metadata": {},
   "outputs": [
    {
     "data": {
      "text/plain": [
       "0.9893582466233818"
      ]
     },
     "execution_count": 121,
     "metadata": {},
     "output_type": "execute_result"
    }
   ],
   "source": [
    "s.sin(8)"
   ]
  },
  {
   "cell_type": "markdown",
   "metadata": {},
   "source": [
    "# Touple\n"
   ]
  },
  {
   "cell_type": "code",
   "execution_count": 1,
   "metadata": {},
   "outputs": [
    {
     "name": "stdout",
     "output_type": "stream",
     "text": [
      "9\n"
     ]
    }
   ],
   "source": [
    "t=(1,2,3,4,5,6,7,78,90)\n",
    "x=len(t)\n",
    "print(x)"
   ]
  },
  {
   "cell_type": "code",
   "execution_count": 2,
   "metadata": {},
   "outputs": [
    {
     "name": "stdout",
     "output_type": "stream",
     "text": [
      "67\n"
     ]
    }
   ],
   "source": [
    "t=(1,2,3,45,67,8)\n",
    "x=max(t)\n",
    "print(x)"
   ]
  },
  {
   "cell_type": "code",
   "execution_count": 3,
   "metadata": {},
   "outputs": [
    {
     "name": "stdout",
     "output_type": "stream",
     "text": [
      "1\n"
     ]
    }
   ],
   "source": [
    "t=(1,2,3,45,67,8)\n",
    "x=min(t)\n",
    "print(x)"
   ]
  },
  {
   "cell_type": "code",
   "execution_count": 4,
   "metadata": {},
   "outputs": [
    {
     "name": "stdout",
     "output_type": "stream",
     "text": [
      "34\n"
     ]
    }
   ],
   "source": [
    "t=(1,2,3,4,5,6,6,7)\n",
    "x=sum(t)\n",
    "print(x)"
   ]
  },
  {
   "cell_type": "code",
   "execution_count": 11,
   "metadata": {},
   "outputs": [
    {
     "name": "stdout",
     "output_type": "stream",
     "text": [
      "(23, 56, 78, 89, 400)\n"
     ]
    }
   ],
   "source": [
    "t=(23,56,78,89)\n",
    "t=list(t)\n",
    "t.append(400)\n",
    "t=tuple(t)\n",
    "print(t)"
   ]
  },
  {
   "cell_type": "code",
   "execution_count": 3,
   "metadata": {},
   "outputs": [],
   "source": [
    "def check(x):\n",
    "    i=2\n",
    "    while(i<x):\n",
    "        if(x%i==0):\n",
    "            print(x,\"is not prime\")\n",
    "    else:\n",
    "        \n",
    "        print(x,\"is prime\")"
   ]
  },
  {
   "cell_type": "code",
   "execution_count": null,
   "metadata": {},
   "outputs": [],
   "source": [
    "check(3)"
   ]
  },
  {
   "cell_type": "code",
   "execution_count": null,
   "metadata": {},
   "outputs": [],
   "source": [
    "def check(x):\n",
    "    i=2\n",
    "    while(i<x):\n",
    "        if(x%i==0):\n",
    "            print(x,\"is not prime\")\n",
    "    else:\n",
    "         print(x,\"is prime\")"
   ]
  },
  {
   "cell_type": "code",
   "execution_count": null,
   "metadata": {},
   "outputs": [],
   "source": [
    "def check(x):\n",
    "    i=2\n",
    "    while(i<x):\n",
    "        if(x%1==0):\n",
    "            print(x,\"is not prime\")\n",
    "    else:\n",
    "        print(x,\"is prime\")\n",
    "    i+=1"
   ]
  },
  {
   "cell_type": "code",
   "execution_count": 131,
   "metadata": {},
   "outputs": [],
   "source": [
    "def check(x):\n",
    "    i=2\n",
    "    while(i<x):\n",
    "        if(x%1==0):\n",
    "            print(x,\"is not prime\")\n",
    "            break\n",
    "    else:\n",
    "        print(x,\"is prime\")\n",
    "    i+=1"
   ]
  },
  {
   "cell_type": "code",
   "execution_count": 132,
   "metadata": {},
   "outputs": [
    {
     "name": "stdout",
     "output_type": "stream",
     "text": [
      "5 is not prime\n"
     ]
    }
   ],
   "source": [
    "check(5)"
   ]
  },
  {
   "cell_type": "code",
   "execution_count": null,
   "metadata": {},
   "outputs": [],
   "source": [
    "def check():\n",
    "    x=int(input(\"Enter number:\"))\n",
    "    if(x==2):\n",
    "        print(\"It is even prime\")\n",
    "    else:\n",
    "        i=2\n",
    "        temp=0\n",
    "        while(i<x):\n",
    "            if(x%i==0):\n",
    "                temp+=1\n",
    "                break\n",
    "        else:\n",
    "            temp=0\n",
    "        i+=1\n",
    "        if temp==1:\n",
    "            print(x,\"is not prime\")\n",
    "        else:\n",
    "            print(x,\"is prime\")"
   ]
  },
  {
   "cell_type": "code",
   "execution_count": null,
   "metadata": {},
   "outputs": [],
   "source": [
    "check()"
   ]
  },
  {
   "cell_type": "code",
   "execution_count": null,
   "metadata": {},
   "outputs": [],
   "source": [
    "check()"
   ]
  },
  {
   "cell_type": "markdown",
   "metadata": {},
   "source": [
    "# Dictionary"
   ]
  },
  {
   "cell_type": "code",
   "execution_count": null,
   "metadata": {},
   "outputs": [],
   "source": [
    "# dictionary is a collection of key-value pair\n",
    "#dict are unordered data-types\n",
    "\n",
    "dict={\"brand\":\"ford\",\"model\": \"Mustang\",\"year\": 1964}\n",
    "print(dict)"
   ]
  },
  {
   "cell_type": "markdown",
   "metadata": {},
   "source": [
    "# Range"
   ]
  },
  {
   "cell_type": "code",
   "execution_count": null,
   "metadata": {},
   "outputs": [],
   "source": [
    "#range(start,end,step)"
   ]
  },
  {
   "cell_type": "code",
   "execution_count": 10,
   "metadata": {},
   "outputs": [
    {
     "name": "stdout",
     "output_type": "stream",
     "text": [
      "Enter low num:6\n",
      "Enetr upper num9\n",
      "6\n",
      "8\n"
     ]
    }
   ],
   "source": [
    "low_num=int(input(\"Enter low num:\"))\n",
    "upp_num=int(input(\"Enetr upper num\"))\n",
    "for i in range(low_num,upp_num+1):\n",
    "    if(i%2==0):\n",
    "        print(i)"
   ]
  },
  {
   "cell_type": "code",
   "execution_count": 11,
   "metadata": {},
   "outputs": [
    {
     "name": "stdout",
     "output_type": "stream",
     "text": [
      "Enter low num:1\n",
      "Enetr upper num9\n",
      "1\n",
      "3\n",
      "5\n",
      "7\n",
      "9\n"
     ]
    }
   ],
   "source": [
    "low_num=int(input(\"Enter low num:\"))\n",
    "upp_num=int(input(\"Enetr upper num\"))\n",
    "for i in range(low_num,upp_num+1):\n",
    "    if(i%2!=0):\n",
    "        print(i)"
   ]
  },
  {
   "cell_type": "code",
   "execution_count": 12,
   "metadata": {},
   "outputs": [
    {
     "name": "stdout",
     "output_type": "stream",
     "text": [
      "How many name you want to store:3\n",
      "enter name:kalyani\n",
      "List of name: ['kalyani']\n",
      "enter name:shubham\n",
      "List of name: ['kalyani', 'shubham']\n",
      "enter name:hhh\n",
      "List of name: ['kalyani', 'shubham', 'hhh']\n"
     ]
    }
   ],
   "source": [
    "#continue\n",
    "num=int(input(\"How many name you want to store:\"))\n",
    "name=[]\n",
    "for i in range(num):\n",
    "        data=input(\"enter name:\")\n",
    "        if data in name:\n",
    "             continue\n",
    "        else:\n",
    "            name.append(data)\n",
    "            print(\"List of name:\",name)"
   ]
  },
  {
   "cell_type": "code",
   "execution_count": 13,
   "metadata": {},
   "outputs": [
    {
     "name": "stdout",
     "output_type": "stream",
     "text": [
      "enter name:kalyani\n",
      "List of name: ['kalyani']\n",
      "enter name:shubham\n",
      "List of name: ['kalyani', 'shubham']\n",
      "enter name:kkk\n",
      "List of name: ['kalyani', 'shubham', 'kkk']\n"
     ]
    }
   ],
   "source": [
    "#break\n",
    "name=[]\n",
    "for i in range(num):\n",
    "        data=input(\"enter name:\")\n",
    "        if data in name:\n",
    "             break\n",
    "        else:\n",
    "            name.append(data)\n",
    "            print(\"List of name:\",name)"
   ]
  },
  {
   "cell_type": "markdown",
   "metadata": {},
   "source": [
    "# Exception handling"
   ]
  },
  {
   "cell_type": "code",
   "execution_count": null,
   "metadata": {},
   "outputs": [],
   "source": [
    "Try=> write that part of code\n",
    "      where error can occure\n",
    "except=> when error will generate than\n",
    "         what should to do.\n",
    "else=> if error will not generate than\n",
    "        what to do\n",
    "finally=> this part of code will work\n",
    "          when error will generate or not"
   ]
  },
  {
   "cell_type": "code",
   "execution_count": 1,
   "metadata": {},
   "outputs": [
    {
     "name": "stdout",
     "output_type": "stream",
     "text": [
      "Enter number:9\n",
      "Enter number8\n",
      "add 17\n",
      "Thanku\n"
     ]
    }
   ],
   "source": [
    "try:\n",
    "    num=int(input(\"Enter number:\"))\n",
    "    num2=int(input(\"Enter number\"))\n",
    "except:\n",
    "    print(\"please enter an integer number\")\n",
    "else:\n",
    "    num3=num+num2\n",
    "    \n",
    "    print(\"add\", num3)\n",
    "finally:\n",
    "    print(\"Thanku\")"
   ]
  },
  {
   "cell_type": "code",
   "execution_count": 2,
   "metadata": {},
   "outputs": [
    {
     "name": "stdout",
     "output_type": "stream",
     "text": [
      "Enter number:y\n",
      "please enter an integer number\n",
      "Thanku\n"
     ]
    }
   ],
   "source": [
    "try:\n",
    "    num=int(input(\"Enter number:\"))\n",
    "    num2=int(input(\"Enter number\"))\n",
    "except:\n",
    "    print(\"please enter an integer number\")\n",
    "else:\n",
    "    num3=num+num2\n",
    "    print(\"add\", num3)\n",
    "finally:\n",
    "    print(\"Thanku\")"
   ]
  },
  {
   "cell_type": "code",
   "execution_count": 3,
   "metadata": {},
   "outputs": [],
   "source": [
    "def fun():\n",
    "    try:\n",
    "        num1=int(input(\"Enter number\"))\n",
    "        num2=int(input(\"Enter number\"))\n",
    "        num3=num1/num2\n",
    "    except ValueError:\n",
    "            print(\"enter a int number:\")\n",
    "            fun()\n",
    "    except ZeroDivisionError:\n",
    "           print(\"please do not enter 0 as denominator\")\n",
    "           fun()\n",
    "    else:\n",
    "         print(\"result:\", num3)"
   ]
  },
  {
   "cell_type": "code",
   "execution_count": 4,
   "metadata": {},
   "outputs": [
    {
     "name": "stdout",
     "output_type": "stream",
     "text": [
      "Enter number9\n",
      "Enter number8\n",
      "result: 1.125\n"
     ]
    }
   ],
   "source": [
    "fun()"
   ]
  },
  {
   "cell_type": "code",
   "execution_count": 5,
   "metadata": {},
   "outputs": [
    {
     "name": "stdout",
     "output_type": "stream",
     "text": [
      "enter number:8\n",
      "enter number:9\n",
      "add: 17\n",
      "Thank you\n"
     ]
    }
   ],
   "source": [
    "class error(Exception):\n",
    "    pass\n",
    "class kalyani(error):\n",
    "    pass\n",
    "class sonali(error):\n",
    "    pass\n",
    "try:\n",
    "    n1=int(input(\"enter number:\"))\n",
    "    n2=int(input(\"enter number:\"))\n",
    "    n3=n1+n2\n",
    "    if n3>100:\n",
    "        raise kalyani\n",
    "    elif n3<0:\n",
    "        raise sonali\n",
    "except ValueError:\n",
    "    print(\"please an int number as input\")\n",
    "except kalyani:\n",
    "    print(\"please enter smaller number\")\n",
    "except sonali:\n",
    "    print(\"please enter greater number\")\n",
    "else:\n",
    "    print(\"add:\",n3)\n",
    "finally:\n",
    "    print(\"Thank you\")\n",
    "    "
   ]
  },
  {
   "cell_type": "markdown",
   "metadata": {},
   "source": [
    "# file handling"
   ]
  },
  {
   "cell_type": "code",
   "execution_count": 1,
   "metadata": {
    "scrolled": true
   },
   "outputs": [
    {
     "data": {
      "text/plain": [
       "'C:\\\\Users\\\\kalya'"
      ]
     },
     "execution_count": 1,
     "metadata": {},
     "output_type": "execute_result"
    }
   ],
   "source": [
    "pwd"
   ]
  },
  {
   "cell_type": "code",
   "execution_count": 9,
   "metadata": {},
   "outputs": [],
   "source": [
    "import os"
   ]
  },
  {
   "cell_type": "code",
   "execution_count": 10,
   "metadata": {},
   "outputs": [
    {
     "ename": "FileExistsError",
     "evalue": "[WinError 183] Cannot create a file when that file already exists: 'shubham'",
     "output_type": "error",
     "traceback": [
      "\u001b[1;31m---------------------------------------------------------------------------\u001b[0m",
      "\u001b[1;31mFileExistsError\u001b[0m                           Traceback (most recent call last)",
      "Input \u001b[1;32mIn [10]\u001b[0m, in \u001b[0;36m<cell line: 1>\u001b[1;34m()\u001b[0m\n\u001b[1;32m----> 1\u001b[0m \u001b[43mos\u001b[49m\u001b[38;5;241;43m.\u001b[39;49m\u001b[43mmkdir\u001b[49m\u001b[43m(\u001b[49m\u001b[38;5;124;43m\"\u001b[39;49m\u001b[38;5;124;43mshubham\u001b[39;49m\u001b[38;5;124;43m\"\u001b[39;49m\u001b[43m)\u001b[49m\n",
      "\u001b[1;31mFileExistsError\u001b[0m: [WinError 183] Cannot create a file when that file already exists: 'shubham'"
     ]
    }
   ],
   "source": [
    "# alraedy shubham file is create that why show error\n",
    "os.mkdir(\"shubham\")"
   ]
  },
  {
   "cell_type": "code",
   "execution_count": 12,
   "metadata": {},
   "outputs": [
    {
     "ename": "FileNotFoundError",
     "evalue": "[Errno 2] No such file or directory: 'C:\\\\Users\\\\kalya\\\\\\\\shubham.txt'",
     "output_type": "error",
     "traceback": [
      "\u001b[1;31m---------------------------------------------------------------------------\u001b[0m",
      "\u001b[1;31mFileNotFoundError\u001b[0m                         Traceback (most recent call last)",
      "Input \u001b[1;32mIn [12]\u001b[0m, in \u001b[0;36m<cell line: 1>\u001b[1;34m()\u001b[0m\n\u001b[1;32m----> 1\u001b[0m f\u001b[38;5;241m=\u001b[39m\u001b[38;5;28;43mopen\u001b[39;49m\u001b[43m(\u001b[49m\u001b[38;5;124;43mr\u001b[39;49m\u001b[38;5;124;43m\"\u001b[39;49m\u001b[38;5;124;43mC:\u001b[39;49m\u001b[38;5;124;43m\\\u001b[39;49m\u001b[38;5;124;43mUsers\u001b[39;49m\u001b[38;5;124;43m\\\u001b[39;49m\u001b[38;5;124;43mkalya\u001b[39;49m\u001b[38;5;130;43;01m\\\\\u001b[39;49;00m\u001b[38;5;124;43mshubham.txt\u001b[39;49m\u001b[38;5;124;43m\"\u001b[39;49m\u001b[43m,\u001b[49m\u001b[43m \u001b[49m\u001b[38;5;124;43m\"\u001b[39;49m\u001b[38;5;124;43mr\u001b[39;49m\u001b[38;5;124;43m\"\u001b[39;49m\u001b[43m)\u001b[49m\n\u001b[0;32m      2\u001b[0m data\u001b[38;5;241m=\u001b[39mf\u001b[38;5;241m.\u001b[39mread()\n\u001b[0;32m      3\u001b[0m \u001b[38;5;28mprint\u001b[39m(data)\n",
      "\u001b[1;31mFileNotFoundError\u001b[0m: [Errno 2] No such file or directory: 'C:\\\\Users\\\\kalya\\\\\\\\shubham.txt'"
     ]
    }
   ],
   "source": [
    "f=open(r\"C:\\Users\\kalya\\\\shubham.txt\", \"r\")\n",
    "data=f.read()\n",
    "print(data)\n",
    "f.close()\n",
    "# shubham file is created by notepad but occur error because i deleted the the file shubham"
   ]
  },
  {
   "cell_type": "markdown",
   "metadata": {},
   "source": [
    "# topic is class: \n",
    "    "
   ]
  },
  {
   "cell_type": "code",
   "execution_count": 16,
   "metadata": {},
   "outputs": [],
   "source": [
    "\n",
    "class first:\n",
    "    def add(self, n1,n2):\n",
    "        n3=n1+n2\n",
    "        print(\"add\", n3)\n",
    "    def subtract(self, n1,n2):\n",
    "        n3=n1-n2\n",
    "        print(\"subtract:\", n3)\n",
    "    def multiply(self, n1,n2):\n",
    "        n3=n1*n2\n",
    "        print(\"multiply\", n3)\n",
    "        "
   ]
  },
  {
   "cell_type": "code",
   "execution_count": 17,
   "metadata": {},
   "outputs": [],
   "source": [
    "f=first()"
   ]
  },
  {
   "cell_type": "code",
   "execution_count": 18,
   "metadata": {},
   "outputs": [
    {
     "name": "stdout",
     "output_type": "stream",
     "text": [
      "add 9\n"
     ]
    }
   ],
   "source": [
    "f.add(4,5)"
   ]
  },
  {
   "cell_type": "code",
   "execution_count": 19,
   "metadata": {},
   "outputs": [
    {
     "name": "stdout",
     "output_type": "stream",
     "text": [
      "subtract: 1\n"
     ]
    }
   ],
   "source": [
    "f.subtract(6,5)"
   ]
  },
  {
   "cell_type": "code",
   "execution_count": 20,
   "metadata": {},
   "outputs": [
    {
     "name": "stdout",
     "output_type": "stream",
     "text": [
      "multiply 30\n"
     ]
    }
   ],
   "source": [
    "f.multiply(5,6)"
   ]
  },
  {
   "cell_type": "code",
   "execution_count": 11,
   "metadata": {},
   "outputs": [],
   "source": [
    "# init in python work like constructor\n",
    "class first:\n",
    "     def __init__(self,n1,n2):\n",
    "            \n",
    "            self.n1=n1\n",
    "            self.n2=n2\n",
    "            print(\"this is my first class\")\n",
    "     def add(self):\n",
    "        n3=self.n1+self.n2\n",
    "        print(n3)\n",
    "     def subtract(self):\n",
    "        n3=self.n1-self.n2\n",
    "        print(n3)\n",
    "     def multiply(self):\n",
    "        n3=self.n1*self.n2\n",
    "        print(n3)"
   ]
  },
  {
   "cell_type": "code",
   "execution_count": 12,
   "metadata": {},
   "outputs": [
    {
     "name": "stdout",
     "output_type": "stream",
     "text": [
      "this is my first class\n"
     ]
    }
   ],
   "source": [
    "f=first(9,5)"
   ]
  },
  {
   "cell_type": "code",
   "execution_count": 13,
   "metadata": {},
   "outputs": [
    {
     "name": "stdout",
     "output_type": "stream",
     "text": [
      "14\n"
     ]
    }
   ],
   "source": [
    "f.add()"
   ]
  },
  {
   "cell_type": "code",
   "execution_count": 14,
   "metadata": {},
   "outputs": [
    {
     "name": "stdout",
     "output_type": "stream",
     "text": [
      "45\n"
     ]
    }
   ],
   "source": [
    "f.multiply()"
   ]
  },
  {
   "cell_type": "code",
   "execution_count": 15,
   "metadata": {},
   "outputs": [
    {
     "name": "stdout",
     "output_type": "stream",
     "text": [
      "4\n"
     ]
    }
   ],
   "source": [
    "f.subtract()"
   ]
  },
  {
   "cell_type": "code",
   "execution_count": null,
   "metadata": {},
   "outputs": [],
   "source": [
    "# topic is inheritance\n",
    "it is a process in which accuire the properties of object by the another class.\n"
   ]
  },
  {
   "cell_type": "code",
   "execution_count": 16,
   "metadata": {},
   "outputs": [],
   "source": [
    "# single inheritance\n",
    "class first:\n",
    "    def fun(self):\n",
    "        print(\"this is my first class\")\n",
    "    def fun2(self):\n",
    "        print(\"this my second class\")\n",
    "class second(first):\n",
    "      def print(self):\n",
    "            print(\"this my thidr class\")\n",
    "      def print2(self):\n",
    "           print(\"kalyani\")\n",
    "            \n",
    "    "
   ]
  },
  {
   "cell_type": "code",
   "execution_count": 17,
   "metadata": {},
   "outputs": [],
   "source": [
    "s=second()"
   ]
  },
  {
   "cell_type": "code",
   "execution_count": 18,
   "metadata": {},
   "outputs": [
    {
     "name": "stdout",
     "output_type": "stream",
     "text": [
      "this is my first class\n"
     ]
    }
   ],
   "source": [
    "s.fun()"
   ]
  },
  {
   "cell_type": "code",
   "execution_count": 19,
   "metadata": {},
   "outputs": [
    {
     "name": "stdout",
     "output_type": "stream",
     "text": [
      "this my second class\n"
     ]
    }
   ],
   "source": [
    "s.fun2()"
   ]
  },
  {
   "cell_type": "code",
   "execution_count": 20,
   "metadata": {},
   "outputs": [
    {
     "name": "stdout",
     "output_type": "stream",
     "text": [
      "this my thidr class\n"
     ]
    }
   ],
   "source": [
    "s.print()"
   ]
  },
  {
   "cell_type": "code",
   "execution_count": 21,
   "metadata": {},
   "outputs": [
    {
     "name": "stdout",
     "output_type": "stream",
     "text": [
      "kalyani\n"
     ]
    }
   ],
   "source": [
    "s.print2()"
   ]
  },
  {
   "cell_type": "code",
   "execution_count": 22,
   "metadata": {},
   "outputs": [],
   "source": [
    "# multilevel inheritance\n",
    "class first:\n",
    "    def fun(self):\n",
    "        print(\"this is my first class\")\n",
    "    def fun2(self):\n",
    "        print(\"this my second class\")\n",
    "class second(first):\n",
    "      def print(self):\n",
    "            print(\"this my thidr class\")\n",
    "      def print2(self):\n",
    "           print(\"kalyani\")\n",
    "class third(second):\n",
    "      def print4(self):\n",
    "            print(\"this my class\")"
   ]
  },
  {
   "cell_type": "code",
   "execution_count": 23,
   "metadata": {},
   "outputs": [],
   "source": [
    "t=third()"
   ]
  },
  {
   "cell_type": "code",
   "execution_count": 24,
   "metadata": {},
   "outputs": [
    {
     "name": "stdout",
     "output_type": "stream",
     "text": [
      "this is my first class\n"
     ]
    }
   ],
   "source": [
    "t.fun()"
   ]
  },
  {
   "cell_type": "code",
   "execution_count": 25,
   "metadata": {},
   "outputs": [
    {
     "name": "stdout",
     "output_type": "stream",
     "text": [
      "this my second class\n"
     ]
    }
   ],
   "source": [
    "t.fun2()"
   ]
  },
  {
   "cell_type": "code",
   "execution_count": 26,
   "metadata": {},
   "outputs": [
    {
     "name": "stdout",
     "output_type": "stream",
     "text": [
      "this my thidr class\n"
     ]
    }
   ],
   "source": [
    "t.print()"
   ]
  },
  {
   "cell_type": "code",
   "execution_count": 27,
   "metadata": {},
   "outputs": [
    {
     "name": "stdout",
     "output_type": "stream",
     "text": [
      "kalyani\n"
     ]
    }
   ],
   "source": [
    "t.print2()"
   ]
  },
  {
   "cell_type": "code",
   "execution_count": 28,
   "metadata": {},
   "outputs": [
    {
     "name": "stdout",
     "output_type": "stream",
     "text": [
      "this my class\n"
     ]
    }
   ],
   "source": [
    "t.print4()"
   ]
  },
  {
   "cell_type": "code",
   "execution_count": 29,
   "metadata": {},
   "outputs": [],
   "source": [
    "#hierarical inheritance\n",
    "class first:\n",
    "    def fun(self):\n",
    "        print(\"this is my first class\")\n",
    "    def fun2(self):\n",
    "        print(\"this my second class\")\n",
    "class second(first):\n",
    "      def print(self):\n",
    "            print(\"this my thidr class\")\n",
    "      def print2(self):\n",
    "           print(\"kalyani\")\n",
    "class third(first):\n",
    "      def print4(self):\n",
    "            print(\"this my class\")\n"
   ]
  },
  {
   "cell_type": "code",
   "execution_count": 30,
   "metadata": {},
   "outputs": [],
   "source": [
    "s=second()"
   ]
  },
  {
   "cell_type": "code",
   "execution_count": 31,
   "metadata": {},
   "outputs": [
    {
     "name": "stdout",
     "output_type": "stream",
     "text": [
      "this is my first class\n"
     ]
    }
   ],
   "source": [
    "s.fun()"
   ]
  },
  {
   "cell_type": "code",
   "execution_count": 32,
   "metadata": {},
   "outputs": [
    {
     "name": "stdout",
     "output_type": "stream",
     "text": [
      "this my second class\n"
     ]
    }
   ],
   "source": [
    "s.fun2()"
   ]
  },
  {
   "cell_type": "code",
   "execution_count": 33,
   "metadata": {},
   "outputs": [
    {
     "name": "stdout",
     "output_type": "stream",
     "text": [
      "this my thidr class\n"
     ]
    }
   ],
   "source": [
    "s.print()"
   ]
  },
  {
   "cell_type": "code",
   "execution_count": 34,
   "metadata": {},
   "outputs": [
    {
     "name": "stdout",
     "output_type": "stream",
     "text": [
      "kalyani\n"
     ]
    }
   ],
   "source": [
    "s.print2()"
   ]
  },
  {
   "cell_type": "code",
   "execution_count": 35,
   "metadata": {},
   "outputs": [],
   "source": [
    "t=third()"
   ]
  },
  {
   "cell_type": "code",
   "execution_count": 36,
   "metadata": {},
   "outputs": [
    {
     "name": "stdout",
     "output_type": "stream",
     "text": [
      "this is my first class\n"
     ]
    }
   ],
   "source": [
    "t.fun()"
   ]
  },
  {
   "cell_type": "code",
   "execution_count": 37,
   "metadata": {},
   "outputs": [
    {
     "name": "stdout",
     "output_type": "stream",
     "text": [
      "this my class\n"
     ]
    }
   ],
   "source": [
    "t.print4()"
   ]
  },
  {
   "cell_type": "code",
   "execution_count": 38,
   "metadata": {},
   "outputs": [
    {
     "name": "stdout",
     "output_type": "stream",
     "text": [
      "enter a number:8\n",
      "enter a number:9\n"
     ]
    }
   ],
   "source": [
    "#use global keywords\n",
    "class first:\n",
    "    global num1\n",
    "    global num2\n",
    "    num1=int(input(\"enter a number:\"))\n",
    "    num2=int(input(\"enter a number:\"))\n",
    "    def add(self):\n",
    "        global num3\n",
    "        num3=40\n",
    "        num4=num1+num2+num3\n",
    "        print(num4)\n",
    "    def subtract(self):\n",
    "        num4=num1-num2-num3\n",
    "        print(num4)\n",
    "        \n",
    "        "
   ]
  },
  {
   "cell_type": "code",
   "execution_count": 39,
   "metadata": {},
   "outputs": [],
   "source": [
    "f=first()"
   ]
  },
  {
   "cell_type": "code",
   "execution_count": 40,
   "metadata": {},
   "outputs": [
    {
     "name": "stdout",
     "output_type": "stream",
     "text": [
      "57\n"
     ]
    }
   ],
   "source": [
    "f.add()"
   ]
  },
  {
   "cell_type": "code",
   "execution_count": 41,
   "metadata": {},
   "outputs": [
    {
     "name": "stdout",
     "output_type": "stream",
     "text": [
      "-41\n"
     ]
    }
   ],
   "source": [
    "f.subtract()"
   ]
  },
  {
   "cell_type": "code",
   "execution_count": 42,
   "metadata": {},
   "outputs": [
    {
     "name": "stdout",
     "output_type": "stream",
     "text": [
      "apple\n",
      "ball\n"
     ]
    }
   ],
   "source": [
    "#program how to work iteration\n",
    "l=[\"apple\", \"ball\", \"dog\"]\n",
    "x=iter(l)\n",
    "print(next(x))\n",
    "print(next(x))"
   ]
  },
  {
   "cell_type": "code",
   "execution_count": 43,
   "metadata": {},
   "outputs": [],
   "source": [
    "#fuction overiding\n",
    "class robot:\n",
    "    def action(self):\n",
    "        print(\"robot action\")\n",
    "class hello(robot):\n",
    "    def action(self):\n",
    "        print(\"hello world\")\n"
   ]
  },
  {
   "cell_type": "code",
   "execution_count": 44,
   "metadata": {},
   "outputs": [],
   "source": [
    "h=hello()"
   ]
  },
  {
   "cell_type": "code",
   "execution_count": 45,
   "metadata": {},
   "outputs": [
    {
     "name": "stdout",
     "output_type": "stream",
     "text": [
      "hello world\n"
     ]
    }
   ],
   "source": [
    "h.action()"
   ]
  },
  {
   "cell_type": "code",
   "execution_count": 2,
   "metadata": {},
   "outputs": [],
   "source": [
    "#fuction overiding\n",
    "class robot:\n",
    "    def action(self):\n",
    "        print(\"robot action\")\n",
    "class hello(robot):\n",
    "    def action(self):\n",
    "        print(\"hello world\")"
   ]
  },
  {
   "cell_type": "code",
   "execution_count": null,
   "metadata": {},
   "outputs": [],
   "source": []
  },
  {
   "cell_type": "code",
   "execution_count": 47,
   "metadata": {},
   "outputs": [],
   "source": [
    "#instance method\n",
    "class First:\n",
    "    def __init__(self,num1,num2):\n",
    "        self.num1=num1\n",
    "        self.num2=num2\n",
    "    def fun1(self):\n",
    "        print(\"this is fun1 and i am printing num1:\",self.num1)\n",
    "    def fun2(self,num3):\n",
    "        self.num1=num3\n",
    "        print(\"this is fun2 and i am printing:\", self.num1)"
   ]
  },
  {
   "cell_type": "code",
   "execution_count": 48,
   "metadata": {},
   "outputs": [],
   "source": [
    "f=First(10,20)"
   ]
  },
  {
   "cell_type": "code",
   "execution_count": 49,
   "metadata": {},
   "outputs": [
    {
     "name": "stdout",
     "output_type": "stream",
     "text": [
      "this is fun1 and i am printing num1: 10\n"
     ]
    }
   ],
   "source": [
    "f.fun1()"
   ]
  },
  {
   "cell_type": "code",
   "execution_count": 50,
   "metadata": {},
   "outputs": [
    {
     "name": "stdout",
     "output_type": "stream",
     "text": [
      "this is fun2 and i am printing: 50\n"
     ]
    }
   ],
   "source": [
    "f.fun2(50)"
   ]
  },
  {
   "cell_type": "code",
   "execution_count": 51,
   "metadata": {},
   "outputs": [
    {
     "name": "stdout",
     "output_type": "stream",
     "text": [
      "this is fun1 and i am printing num1: 50\n"
     ]
    }
   ],
   "source": [
    "f.fun1()"
   ]
  },
  {
   "cell_type": "code",
   "execution_count": 52,
   "metadata": {},
   "outputs": [],
   "source": [
    "# data hiding\n",
    "#we use double undescore(__)\n",
    "class first:\n",
    "    __hiddenvar=12\n",
    "    def add(self,increment):\n",
    "        self.__hiddenvar += increment\n",
    "        print(self.__hiddenvar)\n",
    "        \n",
    "    \n"
   ]
  },
  {
   "cell_type": "code",
   "execution_count": 53,
   "metadata": {},
   "outputs": [],
   "source": [
    "f=first()"
   ]
  },
  {
   "cell_type": "code",
   "execution_count": 54,
   "metadata": {},
   "outputs": [
    {
     "name": "stdout",
     "output_type": "stream",
     "text": [
      "15\n"
     ]
    }
   ],
   "source": [
    "f.add(3)"
   ]
  },
  {
   "cell_type": "code",
   "execution_count": 55,
   "metadata": {},
   "outputs": [
    {
     "name": "stdout",
     "output_type": "stream",
     "text": [
      "C:\\Users\\KALYANI KUMARI\\desktop\n"
     ]
    }
   ],
   "source": [
    "cd desktop"
   ]
  },
  {
   "cell_type": "code",
   "execution_count": 56,
   "metadata": {},
   "outputs": [
    {
     "name": "stdout",
     "output_type": "stream",
     "text": [
      "1: sing in\n",
      "2: Login\n",
      "3: exit\n",
      "Enter choice3\n"
     ]
    }
   ],
   "source": [
    "l1=[]\n",
    "l2=[]\n",
    "l3=[]\n",
    "def sign_in():\n",
    "    \n",
    "    user=input(\"Enter userName:\")\n",
    "    email=input(\"Enter Emain ID:\")\n",
    "    pwd=input(\"Enter Password:\")\n",
    "    l1.append(user)\n",
    "    l2.append(email)  \n",
    "    l3.append(pwd)\n",
    "    \n",
    "def login():\n",
    "    user=input(\"Enter userName:\")\n",
    "    email=input(\"Enter Emain ID:\")\n",
    "    pwd=input(\"Enter Password:\")\n",
    "    if(user==l1[0])and(email==l2[0])and(pwd==l3[0]):\n",
    "        print(\"Login Success\")\n",
    "    else:\n",
    "        print(\"please enter correct username, email and password\")\n",
    "def open_page():\n",
    "    print(\"1: sing in\")\n",
    "    print(\"2: Login\")\n",
    "    print(\"3: exit\")\n",
    "    a=input(\"Enter choice\")\n",
    "    \n",
    "    try:\n",
    "         s=int(a)\n",
    "         return(s)\n",
    "    except:\n",
    "        print(\"only use number\")\n",
    "while True:\n",
    "    x=open_page()\n",
    "\n",
    "    if x==1:\n",
    "        sign_in()\n",
    "    \n",
    "    elif x==2:\n",
    "        login()\n",
    "    elif x==3:\n",
    "        break\n",
    "\n",
    "f=open(r\"C:\\Users\\KALYANI KUMARI\\desktop\\info3.txt\", \"a\")\n",
    "data=f'''\n",
    "l1:{l1}\n",
    "l2:{l2}\n",
    "l3:{13}\n",
    "'''\n",
    "f.write(data)\n",
    "f.close()"
   ]
  },
  {
   "cell_type": "code",
   "execution_count": 57,
   "metadata": {},
   "outputs": [
    {
     "name": "stdout",
     "output_type": "stream",
     "text": [
      "[WinError 2] The system cannot find the file specified: 'desktop'\n",
      "C:\\Users\\KALYANI KUMARI\\desktop\n"
     ]
    }
   ],
   "source": [
    "cd desktop"
   ]
  },
  {
   "cell_type": "code",
   "execution_count": 58,
   "metadata": {},
   "outputs": [
    {
     "name": "stdout",
     "output_type": "stream",
     "text": [
      "1: sing in\n",
      "2: Login\n",
      "3: exit\n",
      "Enter choice3\n"
     ]
    }
   ],
   "source": [
    "l1=[]\n",
    "l2=[]\n",
    "l3=[]\n",
    "def sign_in():\n",
    "    \n",
    "    user=input(\"Enter userName:\")\n",
    "    email=input(\"Enter Emain ID:\")\n",
    "    pwd=input(\"Enter Password:\")\n",
    "    l1.append(user)\n",
    "    l2.append(email)  \n",
    "    l3.append(pwd)\n",
    "    \n",
    "def login():\n",
    "    user=input(\"Enter userName:\")\n",
    "    email=input(\"Enter Emain ID:\")\n",
    "    pwd=input(\"Enter Password:\")\n",
    "    if(user==l1[0])and(email==l2[0])and(pwd==l3[0]):\n",
    "        print(\"Login Success\")\n",
    "    else:\n",
    "        print(\"please enter correct username, email and password\")\n",
    "def open_page():\n",
    "    print(\"1: sing in\")\n",
    "    print(\"2: Login\")\n",
    "    print(\"3: exit\")\n",
    "    a=input(\"Enter choice\")\n",
    "    \n",
    "    try:\n",
    "         s=int(a)\n",
    "         return(s)\n",
    "    except:\n",
    "        print(\"only use number\")\n",
    "while True:\n",
    "    x=open_page()\n",
    "    if x==1:\n",
    "        sign_in()\n",
    "    elif x==2:\n",
    "        login()\n",
    "    elif x==3:\n",
    "        break\n",
    "\n",
    "f=open(r\"C:\\Users\\KALYANI KUMARI\\desktop\\inf.txt\", \"w\")\n",
    "data=f'''\n",
    "l1:{l1}\n",
    "l2:{l2}\n",
    "l3:{13}\n",
    "'''\n",
    "f.write(data)\n",
    "f.close()"
   ]
  },
  {
   "cell_type": "code",
   "execution_count": 59,
   "metadata": {},
   "outputs": [],
   "source": [
    "#instance method\n",
    "class First:\n",
    "    def __init__(self,num1,num2):\n",
    "        self.num1=num1\n",
    "        self.num2=num2\n",
    "    def fun1(self):\n",
    "        print(\"this is fun1 and i am printing num1:\",self.num1)\n",
    "    def fun2(self,num3):\n",
    "        self.num1=num3\n",
    "        print(\"this is fun2 and i am printing:\", self.num1)"
   ]
  },
  {
   "cell_type": "code",
   "execution_count": 60,
   "metadata": {},
   "outputs": [],
   "source": [
    "f=First(10,20)"
   ]
  },
  {
   "cell_type": "code",
   "execution_count": 61,
   "metadata": {},
   "outputs": [
    {
     "name": "stdout",
     "output_type": "stream",
     "text": [
      "this is fun1 and i am printing num1: 10\n"
     ]
    }
   ],
   "source": [
    "f.fun1()"
   ]
  },
  {
   "cell_type": "code",
   "execution_count": 62,
   "metadata": {},
   "outputs": [
    {
     "name": "stdout",
     "output_type": "stream",
     "text": [
      "this is fun2 and i am printing: 50\n"
     ]
    }
   ],
   "source": [
    "f.fun2(50)"
   ]
  },
  {
   "cell_type": "code",
   "execution_count": 63,
   "metadata": {},
   "outputs": [
    {
     "name": "stdout",
     "output_type": "stream",
     "text": [
      "this is fun1 and i am printing num1: 50\n"
     ]
    }
   ],
   "source": [
    "f.fun1()"
   ]
  },
  {
   "cell_type": "code",
   "execution_count": 64,
   "metadata": {},
   "outputs": [],
   "source": [
    "def double(self):\n",
    "    current=self.head\n",
    "    for _ in range(len(self)):\n",
    "        new_node=Node(current.item)\n",
    "        new_node.link=current.link\n",
    "        current.link=new_node\n",
    "        current=new_node.link\n",
    "        self.length *=2\n",
    "    "
   ]
  },
  {
   "cell_type": "code",
   "execution_count": 65,
   "metadata": {},
   "outputs": [],
   "source": [
    "#bubble sort program\n",
    "list=[34,15,29,8]\n",
    "def bubblesort(list):\n",
    "    n=len(list)\n",
    "    i=0\n",
    "    for i in range(len(list)):\n",
    "        for j in range(0,n-i-1):\n",
    "            if(list[j]>list[j+1]):\n",
    "                list[j],list[j+1]=list[j+1],list[j]\n",
    "                i=1\n",
    "                if(i==0):\n",
    "                    break\n",
    "                    print(\"sorted element is:\",list)"
   ]
  },
  {
   "cell_type": "code",
   "execution_count": 66,
   "metadata": {},
   "outputs": [],
   "source": [
    "bubblesort(list)"
   ]
  },
  {
   "cell_type": "code",
   "execution_count": 67,
   "metadata": {},
   "outputs": [
    {
     "data": {
      "text/plain": [
       "[8, 15, 29, 34]"
      ]
     },
     "execution_count": 67,
     "metadata": {},
     "output_type": "execute_result"
    }
   ],
   "source": [
    "list"
   ]
  },
  {
   "cell_type": "code",
   "execution_count": 68,
   "metadata": {},
   "outputs": [],
   "source": [
    "#bubble sort program\n",
    "list=[50,45,79,8,67,7]\n",
    "def bubblesort(list):\n",
    "    n=len(list)\n",
    "    for i in range(len(list)):\n",
    "        i=0\n",
    "        for j in range(0,n-i-1):\n",
    "            if(list[j]>list[j+1]):\n",
    "                list[j],list[j+1]=list[j+1],list[j]\n",
    "                i=1\n",
    "                print(\"sorted element is:\",list)\n",
    "            \n",
    "            \n",
    "        \n",
    "    "
   ]
  },
  {
   "cell_type": "code",
   "execution_count": 69,
   "metadata": {
    "scrolled": true
   },
   "outputs": [
    {
     "name": "stdout",
     "output_type": "stream",
     "text": [
      "sorted element is: [45, 50, 79, 8, 67, 7]\n",
      "sorted element is: [45, 50, 8, 79, 67, 7]\n",
      "sorted element is: [45, 50, 8, 67, 79, 7]\n",
      "sorted element is: [45, 50, 8, 67, 7, 79]\n",
      "sorted element is: [45, 8, 50, 67, 7, 79]\n",
      "sorted element is: [45, 8, 50, 7, 67, 79]\n",
      "sorted element is: [8, 45, 50, 7, 67, 79]\n",
      "sorted element is: [8, 45, 7, 50, 67, 79]\n",
      "sorted element is: [8, 7, 45, 50, 67, 79]\n",
      "sorted element is: [7, 8, 45, 50, 67, 79]\n"
     ]
    }
   ],
   "source": [
    "bubblesort(list)"
   ]
  },
  {
   "cell_type": "code",
   "execution_count": 70,
   "metadata": {},
   "outputs": [
    {
     "data": {
      "text/plain": [
       "[7, 8, 45, 50, 67, 79]"
      ]
     },
     "execution_count": 70,
     "metadata": {},
     "output_type": "execute_result"
    }
   ],
   "source": [
    "list"
   ]
  },
  {
   "cell_type": "code",
   "execution_count": 71,
   "metadata": {},
   "outputs": [],
   "source": [
    "#bubble sort program\n",
    "list=[34,15,29,8]\n",
    "def bubblesort(list):\n",
    "    n=len(list)\n",
    "    for i in range(len(list)):\n",
    "        for j in range(0,n-i-1):\n",
    "            if(list[j]>list[j+1]):\n",
    "                list[j],list[j+1]=list[j+1],list[j]\n",
    "                if(i==0):\n",
    "                    print(\"sorted element is:\",list)\n",
    "            "
   ]
  },
  {
   "cell_type": "code",
   "execution_count": 72,
   "metadata": {},
   "outputs": [
    {
     "name": "stdout",
     "output_type": "stream",
     "text": [
      "sorted element is: [15, 34, 29, 8]\n",
      "sorted element is: [15, 29, 34, 8]\n",
      "sorted element is: [15, 29, 8, 34]\n"
     ]
    }
   ],
   "source": [
    "bubblesort(list)"
   ]
  },
  {
   "cell_type": "code",
   "execution_count": 73,
   "metadata": {
    "scrolled": true
   },
   "outputs": [
    {
     "data": {
      "text/plain": [
       "[8, 15, 29, 34]"
      ]
     },
     "execution_count": 73,
     "metadata": {},
     "output_type": "execute_result"
    }
   ],
   "source": [
    "list"
   ]
  },
  {
   "cell_type": "code",
   "execution_count": 74,
   "metadata": {},
   "outputs": [],
   "source": [
    "#bubble sort program\n",
    "list=[50,45,79,8,67,7]\n",
    "def bubblesort(list):\n",
    "    n=len(list)\n",
    "    for i in range(len(list)):\n",
    "    \n",
    "        for j in range(0,n-i-1):\n",
    "            if(list[j]>list[j+1]):\n",
    "                list[j],list[j+1]=list[j+1],list[j]\n",
    "                if(i==0):\n",
    "                    print(\"sorted element is:\",list)\n",
    "            "
   ]
  },
  {
   "cell_type": "code",
   "execution_count": 75,
   "metadata": {},
   "outputs": [
    {
     "name": "stdout",
     "output_type": "stream",
     "text": [
      "sorted element is: [45, 50, 79, 8, 67, 7]\n",
      "sorted element is: [45, 50, 8, 79, 67, 7]\n",
      "sorted element is: [45, 50, 8, 67, 79, 7]\n",
      "sorted element is: [45, 50, 8, 67, 7, 79]\n"
     ]
    }
   ],
   "source": [
    "bubblesort(list)"
   ]
  },
  {
   "cell_type": "code",
   "execution_count": 76,
   "metadata": {},
   "outputs": [
    {
     "data": {
      "text/plain": [
       "[7, 8, 45, 50, 67, 79]"
      ]
     },
     "execution_count": 76,
     "metadata": {},
     "output_type": "execute_result"
    }
   ],
   "source": [
    "list"
   ]
  },
  {
   "cell_type": "code",
   "execution_count": 77,
   "metadata": {},
   "outputs": [],
   "source": [
    "#bubble sort program\n",
    "list=[50,45,79,8,67,7]\n",
    "def bubblesort(list):\n",
    "    n=len(list)\n",
    "    for i in range(len(list)):\n",
    "        i=0\n",
    "        for j in range(0,n-i-1):\n",
    "            if(list[j]>list[j+1]):\n",
    "                list[j],list[j+1]=list[j+1],list[j]\n",
    "                i=1\n",
    "                print(\"sorted element is:\",list)\n",
    "            "
   ]
  },
  {
   "cell_type": "code",
   "execution_count": 78,
   "metadata": {},
   "outputs": [],
   "source": [
    "#bubble sort program\n",
    "list=[50,45,79,8,67,7]\n",
    "def bubblesort(list):\n",
    "    n=len(list)\n",
    "    for i in range(n):\n",
    "        for j in range(0,n-i-1):\n",
    "            if(list[j]>list[j+1]):\n",
    "                list[j],list[j+1]=list[j+1],list[j]\n",
    "                print(\"sorted element is:\",list)\n",
    "                \n",
    "                \n",
    "                "
   ]
  },
  {
   "cell_type": "code",
   "execution_count": 79,
   "metadata": {},
   "outputs": [
    {
     "name": "stdout",
     "output_type": "stream",
     "text": [
      "sorted element is: [45, 50, 79, 8, 67, 7]\n",
      "sorted element is: [45, 50, 8, 79, 67, 7]\n",
      "sorted element is: [45, 50, 8, 67, 79, 7]\n",
      "sorted element is: [45, 50, 8, 67, 7, 79]\n",
      "sorted element is: [45, 8, 50, 67, 7, 79]\n",
      "sorted element is: [45, 8, 50, 7, 67, 79]\n",
      "sorted element is: [8, 45, 50, 7, 67, 79]\n",
      "sorted element is: [8, 45, 7, 50, 67, 79]\n",
      "sorted element is: [8, 7, 45, 50, 67, 79]\n",
      "sorted element is: [7, 8, 45, 50, 67, 79]\n"
     ]
    }
   ],
   "source": [
    "bubblesort(list)"
   ]
  },
  {
   "cell_type": "code",
   "execution_count": 80,
   "metadata": {},
   "outputs": [
    {
     "data": {
      "text/plain": [
       "[7, 8, 45, 50, 67, 79]"
      ]
     },
     "execution_count": 80,
     "metadata": {},
     "output_type": "execute_result"
    }
   ],
   "source": [
    "list"
   ]
  },
  {
   "cell_type": "code",
   "execution_count": 81,
   "metadata": {},
   "outputs": [],
   "source": [
    "#bubble sort program\n",
    "list=[34,15,29,8]\n",
    "def bubblesort(list):\n",
    "    n=len(list)\n",
    "    for i in range(n):\n",
    "        for j in range(n-i-1):\n",
    "            if(list[j]>list[j+1]):\n",
    "                list[j],list[j+1]=list[j+1],list[j]\n",
    "                print(\"sorted element is:\",list)"
   ]
  },
  {
   "cell_type": "code",
   "execution_count": 82,
   "metadata": {
    "scrolled": true
   },
   "outputs": [
    {
     "name": "stdout",
     "output_type": "stream",
     "text": [
      "sorted element is: [15, 34, 29, 8]\n",
      "sorted element is: [15, 29, 34, 8]\n",
      "sorted element is: [15, 29, 8, 34]\n",
      "sorted element is: [15, 8, 29, 34]\n",
      "sorted element is: [8, 15, 29, 34]\n"
     ]
    }
   ],
   "source": [
    "bubblesort(list)"
   ]
  },
  {
   "cell_type": "code",
   "execution_count": 83,
   "metadata": {},
   "outputs": [
    {
     "data": {
      "text/plain": [
       "[8, 15, 29, 34]"
      ]
     },
     "execution_count": 83,
     "metadata": {},
     "output_type": "execute_result"
    }
   ],
   "source": [
    "list"
   ]
  },
  {
   "cell_type": "code",
   "execution_count": 84,
   "metadata": {},
   "outputs": [],
   "source": [
    "#bubble sort program\n",
    "list=[34,15,29,8]\n",
    "def bubblesort(list):\n",
    "    n=len(list)\n",
    "    for i in range(n):\n",
    "        swap=0\n",
    "        for j in range(n-i-1):\n",
    "            if(list[j]>list[j+1]):\n",
    "                list[j],list[j+1]=list[j+1],list[j]\n",
    "                swap=1\n",
    "                if(swap==0):\n",
    "                    \n",
    "                    print(\"sorted element is:\",list)"
   ]
  },
  {
   "cell_type": "code",
   "execution_count": 85,
   "metadata": {},
   "outputs": [
    {
     "data": {
      "text/plain": [
       "[8, 15, 29, 34]"
      ]
     },
     "execution_count": 85,
     "metadata": {},
     "output_type": "execute_result"
    }
   ],
   "source": [
    "bubblesort(list)\n",
    "list"
   ]
  },
  {
   "cell_type": "code",
   "execution_count": 86,
   "metadata": {},
   "outputs": [],
   "source": [
    "#insertion sort\n",
    "l=[34,11,67,8,19]\n",
    "def selectionsort(l):\n",
    "    n=len(l)\n",
    "    for i in range(n):\n",
    "        min=i;\n",
    "        for j in range(i+1,n):\n",
    "            if(l[j]<l[min]):\n",
    "                l[min],l[j]=l[j],l[min]\n",
    "                if(min!=i):\n",
    "                     print(\"shorted list are\",l)\n"
   ]
  },
  {
   "cell_type": "code",
   "execution_count": 87,
   "metadata": {},
   "outputs": [],
   "source": [
    "selectionsort(l)"
   ]
  },
  {
   "cell_type": "code",
   "execution_count": 88,
   "metadata": {},
   "outputs": [
    {
     "data": {
      "text/plain": [
       "[8, 11, 19, 34, 67]"
      ]
     },
     "execution_count": 88,
     "metadata": {},
     "output_type": "execute_result"
    }
   ],
   "source": [
    "l"
   ]
  },
  {
   "cell_type": "code",
   "execution_count": 89,
   "metadata": {},
   "outputs": [],
   "source": [
    "l=[34,11,67,8,19]\n",
    "def selectionsort(l):\n",
    "    n=len(l)\n",
    "    for i in range(n):\n",
    "        min=i;\n",
    "        for j in range(i+1,n):\n",
    "            if(l[j]<l[min]):\n",
    "                l[min],l[j]=l[j],l[min]\n",
    "                \n",
    "                print(\"shorted list are\",l)"
   ]
  },
  {
   "cell_type": "code",
   "execution_count": 90,
   "metadata": {},
   "outputs": [
    {
     "name": "stdout",
     "output_type": "stream",
     "text": [
      "shorted list are [11, 34, 67, 8, 19]\n",
      "shorted list are [8, 34, 67, 11, 19]\n",
      "shorted list are [8, 11, 67, 34, 19]\n",
      "shorted list are [8, 11, 34, 67, 19]\n",
      "shorted list are [8, 11, 19, 67, 34]\n",
      "shorted list are [8, 11, 19, 34, 67]\n"
     ]
    }
   ],
   "source": [
    "selectionsort(l)"
   ]
  },
  {
   "cell_type": "code",
   "execution_count": 91,
   "metadata": {},
   "outputs": [
    {
     "data": {
      "text/plain": [
       "[8, 11, 19, 34, 67]"
      ]
     },
     "execution_count": 91,
     "metadata": {},
     "output_type": "execute_result"
    }
   ],
   "source": [
    "l"
   ]
  },
  {
   "cell_type": "code",
   "execution_count": 92,
   "metadata": {},
   "outputs": [],
   "source": [
    "l=[34,11,67,8,19]\n",
    "def selectionsort(l):\n",
    "    n=len(l)\n",
    "    for i in range(n):\n",
    "        for j in range(i+1,n):\n",
    "            if(l[j]<l[i]):\n",
    "                l[i],l[j]=l[j],l[i]\n",
    "                print(\"shorted list are\",l)"
   ]
  },
  {
   "cell_type": "code",
   "execution_count": 93,
   "metadata": {},
   "outputs": [
    {
     "name": "stdout",
     "output_type": "stream",
     "text": [
      "shorted list are [11, 34, 67, 8, 19]\n",
      "shorted list are [8, 34, 67, 11, 19]\n",
      "shorted list are [8, 11, 67, 34, 19]\n",
      "shorted list are [8, 11, 34, 67, 19]\n",
      "shorted list are [8, 11, 19, 67, 34]\n",
      "shorted list are [8, 11, 19, 34, 67]\n"
     ]
    }
   ],
   "source": [
    "selectionsort(l)"
   ]
  },
  {
   "cell_type": "code",
   "execution_count": 94,
   "metadata": {},
   "outputs": [
    {
     "data": {
      "text/plain": [
       "[8, 11, 19, 34, 67]"
      ]
     },
     "execution_count": 94,
     "metadata": {},
     "output_type": "execute_result"
    }
   ],
   "source": [
    "l"
   ]
  },
  {
   "cell_type": "code",
   "execution_count": 95,
   "metadata": {},
   "outputs": [],
   "source": [
    "def binary(list,key):\n",
    "    low=0\n",
    "    hig=len(list)-1\n",
    "    while(low<=hig):\n",
    "        mid=(low+hig)//2\n",
    "        if(list[mid]==key):\n",
    "            return mid\n",
    "        elif list[mid]<key:\n",
    "            low=mid+1\n",
    "        else:\n",
    "            hig=mid-1\n",
    "            return -1\n",
    "            "
   ]
  },
  {
   "cell_type": "code",
   "execution_count": 96,
   "metadata": {},
   "outputs": [
    {
     "name": "stdout",
     "output_type": "stream",
     "text": [
      "not present element in index\n"
     ]
    }
   ],
   "source": [
    "list=[1,67,89,90,500]#unshorted list hai isliye output nhi aa rha h\n",
    "key=67\n",
    "result=binary(list,key)\n",
    "if result!=-1:\n",
    "    print(\"element in shorted index is\",result)\n",
    "else:\n",
    "    print(\"not present element in index\")\n"
   ]
  },
  {
   "cell_type": "code",
   "execution_count": 97,
   "metadata": {},
   "outputs": [],
   "source": [
    "def binary(list,key):\n",
    "    low=0\n",
    "    hig=len(list)-1\n",
    "    while(low<=hig):\n",
    "        mid=(low+hig)//2\n",
    "        if(list[mid]==key):\n",
    "            return mid\n",
    "        elif list[mid]<key:\n",
    "            low=mid+1\n",
    "        else:\n",
    "            hig=mid-1\n",
    "            return -1\n",
    "            "
   ]
  },
  {
   "cell_type": "code",
   "execution_count": 98,
   "metadata": {},
   "outputs": [
    {
     "name": "stdout",
     "output_type": "stream",
     "text": [
      "not present element in index\n"
     ]
    }
   ],
   "source": [
    "list=[1,67,89,90,500]\n",
    "key=8\n",
    "result=binary(list,key)\n",
    "if result!=-1:\n",
    "    print(\"element in shorted index is\",result)\n",
    "else:\n",
    "    print(\"not present element in index\")"
   ]
  },
  {
   "cell_type": "code",
   "execution_count": 1,
   "metadata": {},
   "outputs": [],
   "source": [
    "list=[6,9,8,90,67]\n",
    "key=9\n",
    "def linear(list,key):\n",
    "    n=len(list)\n",
    "    for i in range(0,n):\n",
    "        if(list[i]==key):\n",
    "            \n",
    "             return i;\n",
    "     \n",
    "             return -1;\n",
    "    "
   ]
  },
  {
   "cell_type": "code",
   "execution_count": 2,
   "metadata": {},
   "outputs": [
    {
     "name": "stdout",
     "output_type": "stream",
     "text": [
      "index is 1\n"
     ]
    }
   ],
   "source": [
    "res=linear(list,key)\n",
    "print(\"index is\",res)\n"
   ]
  },
  {
   "cell_type": "code",
   "execution_count": 101,
   "metadata": {},
   "outputs": [],
   "source": [
    "#right program in linear search\n",
    "def linear(list,key):\n",
    "    n=len(list)\n",
    "    for i in range(0,n):\n",
    "        if(list[i]==key):\n",
    "            \n",
    "             return i;\n",
    "            \n",
    "    return -1;\n",
    "    "
   ]
  },
  {
   "cell_type": "code",
   "execution_count": 102,
   "metadata": {},
   "outputs": [
    {
     "name": "stdout",
     "output_type": "stream",
     "text": [
      "Element is not present in list:\n"
     ]
    }
   ],
   "source": [
    "list=[6,9,8,90,67]\n",
    "key=7\n",
    "res=linear(list,key)\n",
    "if(res == -1):\n",
    "    print(\"Element is not present in list:\")\n",
    "else:\n",
    "    print(\"element is present at index:\",res)\n"
   ]
  },
  {
   "cell_type": "code",
   "execution_count": 103,
   "metadata": {},
   "outputs": [
    {
     "name": "stdout",
     "output_type": "stream",
     "text": [
      "how many number you want to store:8\n",
      "Enter name:kkk\n",
      "Enter name:llll\n",
      "Enter name:kkkk\n",
      "Enter name:llll\n",
      "Enter name:uuuu\n",
      "Enter name:yyyy\n",
      "Enter name:tttt\n",
      "Enter name:yyyyy\n",
      "List of name: ['kkk', 'llll', 'kkkk', 'llll', 'uuuu', 'yyyy', 'tttt', 'yyyyy']\n"
     ]
    }
   ],
   "source": [
    "num=int(input(\"how many number you want to store:\"))\n",
    "name=[]\n",
    "for i in range(num):\n",
    "       data=input(\"Enter name:\")\n",
    "       name.append(data)\n",
    "print(\"List of name:\",name)"
   ]
  },
  {
   "cell_type": "code",
   "execution_count": 3,
   "metadata": {},
   "outputs": [
    {
     "name": "stdout",
     "output_type": "stream",
     "text": [
      "kkkkkkkr\n"
     ]
    }
   ],
   "source": [
    "# remove white space between two string2\n",
    "str =\" kkk kk kkr\"\n",
    "x=str.replace(\" \", \"\")\n",
    "print((x))"
   ]
  },
  {
   "cell_type": "code",
   "execution_count": 5,
   "metadata": {},
   "outputs": [
    {
     "name": "stdout",
     "output_type": "stream",
     "text": [
      "(23, 56, 400, 78, 89)\n"
     ]
    }
   ],
   "source": [
    "t=(23,56,78,89)\n",
    "t=list(t)\n",
    "t.insert(2,400)\n",
    "t=tuple(t)\n",
    "print(t)"
   ]
  },
  {
   "cell_type": "code",
   "execution_count": null,
   "metadata": {},
   "outputs": [],
   "source": []
  },
  {
   "cell_type": "code",
   "execution_count": null,
   "metadata": {},
   "outputs": [],
   "source": []
  }
 ],
 "metadata": {
  "kernelspec": {
   "display_name": "Python 3 (ipykernel)",
   "language": "python",
   "name": "python3"
  },
  "language_info": {
   "codemirror_mode": {
    "name": "ipython",
    "version": 3
   },
   "file_extension": ".py",
   "mimetype": "text/x-python",
   "name": "python",
   "nbconvert_exporter": "python",
   "pygments_lexer": "ipython3",
   "version": "3.8.0"
  }
 },
 "nbformat": 4,
 "nbformat_minor": 4
}
